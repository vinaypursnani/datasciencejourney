{
 "cells": [
  {
   "cell_type": "code",
   "execution_count": 1,
   "id": "c2613d31",
   "metadata": {},
   "outputs": [
    {
     "ename": "TypeError",
     "evalue": "unsupported operand type(s) for /: 'list' and 'list'",
     "output_type": "error",
     "traceback": [
      "\u001b[1;31m---------------------------------------------------------------------------\u001b[0m",
      "\u001b[1;31mTypeError\u001b[0m                                 Traceback (most recent call last)",
      "\u001b[1;32m<ipython-input-1-ea90a4e8599a>\u001b[0m in \u001b[0;36m<module>\u001b[1;34m\u001b[0m\n\u001b[0;32m      1\u001b[0m \u001b[0mdistance\u001b[0m \u001b[1;33m=\u001b[0m \u001b[1;33m[\u001b[0m\u001b[1;36m10\u001b[0m\u001b[1;33m,\u001b[0m \u001b[1;36m15\u001b[0m\u001b[1;33m,\u001b[0m \u001b[1;36m17\u001b[0m\u001b[1;33m,\u001b[0m \u001b[1;36m26\u001b[0m\u001b[1;33m]\u001b[0m\u001b[1;33m\u001b[0m\u001b[1;33m\u001b[0m\u001b[0m\n\u001b[0;32m      2\u001b[0m \u001b[0mtime\u001b[0m \u001b[1;33m=\u001b[0m \u001b[1;33m[\u001b[0m\u001b[1;36m.30\u001b[0m\u001b[1;33m,\u001b[0m \u001b[1;36m.47\u001b[0m\u001b[1;33m,\u001b[0m \u001b[1;36m.55\u001b[0m\u001b[1;33m,\u001b[0m \u001b[1;36m1.20\u001b[0m\u001b[1;33m]\u001b[0m\u001b[1;33m\u001b[0m\u001b[1;33m\u001b[0m\u001b[0m\n\u001b[1;32m----> 3\u001b[1;33m \u001b[0mspeed\u001b[0m \u001b[1;33m=\u001b[0m \u001b[0mdistance\u001b[0m\u001b[1;33m/\u001b[0m\u001b[0mtime\u001b[0m\u001b[1;33m\u001b[0m\u001b[1;33m\u001b[0m\u001b[0m\n\u001b[0m",
      "\u001b[1;31mTypeError\u001b[0m: unsupported operand type(s) for /: 'list' and 'list'"
     ]
    }
   ],
   "source": [
    "distance = [10, 15, 17, 26]\n",
    "time = [.30, .47, .55, 1.20]\n",
    "speed = distance/time"
   ]
  },
  {
   "cell_type": "code",
   "execution_count": 3,
   "id": "a3a2a247",
   "metadata": {},
   "outputs": [],
   "source": [
    "# NumPy numerical python is the foundational package for mathematical computing in Python\n",
    "# 1. Support fast and efficient multidimentsional arrays (ndarray)\n",
    "# 2. Executes element-wise computations and mathematical calculations\n",
    "# 3. Performs linear algebric operations, Fourier transforms, and random number generations\n",
    "# 4. Tools for reading and writing array based datasets to disk\n",
    "# 5. Efficient was of storing data and manipulating data\n",
    "# 6. Tools for integration language code C, C++\n",
    "\n",
    "# Primary container to exchange data between algorithms\n",
    "import numpy as np"
   ]
  },
  {
   "cell_type": "code",
   "execution_count": 6,
   "id": "ad44303a",
   "metadata": {},
   "outputs": [
    {
     "name": "stdout",
     "output_type": "stream",
     "text": [
      "[33.33333333 31.91489362 30.90909091 21.66666667]\n"
     ]
    }
   ],
   "source": [
    "np_distance = np.array(distance)\n",
    "np_time = np.array(time)\n",
    "speed = np_distance/np_time\n",
    "print(speed)"
   ]
  },
  {
   "cell_type": "code",
   "execution_count": 36,
   "id": "8ecdcf1a",
   "metadata": {},
   "outputs": [
    {
     "name": "stdout",
     "output_type": "stream",
     "text": [
      "1d 1-axis rank 1 3x1 \n",
      " [5 7 9]\n",
      "ndim:  1\n",
      "shape:  (3,)\n",
      "size:  3\n",
      "dtype:  int32\n",
      "2d 2-axis rank 2 2x3 \n",
      " [[0 1 2]\n",
      " [5 6 7]]\n",
      "ndim:  2\n",
      "shape:  (2, 3)\n",
      "size:  6\n",
      "dtype:  int32\n",
      "3d 3-axis rank 2 3x3x3 \n",
      " [[[0.56 1.   2.  ]\n",
      "  [2.   3.   4.  ]\n",
      "  [4.   5.   6.  ]]\n",
      "\n",
      " [[0.   1.   2.  ]\n",
      "  [2.   3.   4.  ]\n",
      "  [4.   5.   6.  ]]\n",
      "\n",
      " [[0.   1.   2.  ]\n",
      "  [2.   3.   4.  ]\n",
      "  [4.   5.   6.  ]]]\n",
      "ndim:  3\n",
      "shape:  (3, 3, 3)\n",
      "size:  27\n",
      "dtype float64\n"
     ]
    }
   ],
   "source": [
    "# nd array in Python is used as primary container to exchange data between algorithms\n",
    "# 1d 1-axes, 2d 2-axes, 3d 3-axes\n",
    "one = np.array([5,7,9])\n",
    "print('1d 1-axis rank 1 3x1','\\n', one)\n",
    "print('ndim: ', one.ndim)\n",
    "print('shape: ', one.shape)\n",
    "print('size: ', one.size)\n",
    "print('dtype: ', one.dtype) #int32\n",
    "two = np.array([[0,1,2],[5,6,7]])\n",
    "print('2d 2-axis rank 2 2x3','\\n', two)\n",
    "print('ndim: ', two.ndim)\n",
    "print('shape: ', two.shape)\n",
    "print('size: ', two.size)\n",
    "print('dtype: ', two.dtype) #int32\n",
    "three = np.array([[[0.56,1,2],[2,3,4],[4,5,6]], [[0,1,2],[2,3,4],[4,5,6]], [[0,1,2],[2,3,4],[4,5,6]]])\n",
    "print('3d 3-axis rank 2 3x3x3', '\\n', three)\n",
    "print('ndim: ', three.ndim) # 1,2,3\n",
    "print('shape: ', three.shape) # nxmxt\n",
    "print('size: ', three.size) # number of elements\n",
    "print('dtype', three.dtype) #float64"
   ]
  },
  {
   "cell_type": "code",
   "execution_count": 9,
   "id": "db072eee",
   "metadata": {},
   "outputs": [
    {
     "name": "stdout",
     "output_type": "stream",
     "text": [
      "[1 2 3 4]\n"
     ]
    }
   ],
   "source": [
    "# Create an array\n",
    "numpy_array = np.array([1,2,3,4]) # mention array elements within parenthesis\n",
    "print(numpy_array)"
   ]
  },
  {
   "cell_type": "code",
   "execution_count": 30,
   "id": "b3f667bd",
   "metadata": {},
   "outputs": [
    {
     "name": "stdout",
     "output_type": "stream",
     "text": [
      "[[0. 0. 0.]\n",
      " [0. 0. 0.]\n",
      " [0. 0. 0.]]\n"
     ]
    }
   ],
   "source": [
    "# Create an array with zeroes\n",
    "# curve braces instead of square\n",
    "numpy_array = np.zeros((3,3)) # mention shape of array within praentheses\n",
    "print(numpy_array)"
   ]
  },
  {
   "cell_type": "code",
   "execution_count": 31,
   "id": "29158675",
   "metadata": {},
   "outputs": [
    {
     "name": "stdout",
     "output_type": "stream",
     "text": [
      "[[1. 1. 1.]\n",
      " [1. 1. 1.]\n",
      " [1. 1. 1.]]\n"
     ]
    }
   ],
   "source": [
    "# Create an array with ones\n",
    "numpy_array = np.ones((3,3))\n",
    "print(numpy_array)"
   ]
  },
  {
   "cell_type": "code",
   "execution_count": 16,
   "id": "71dbc1ea",
   "metadata": {},
   "outputs": [
    {
     "data": {
      "text/plain": [
       "array([[1.08543750e-311, 1.08545523e-311, 0.00000000e+000,\n",
       "        0.00000000e+000, 3.81674046e-308, 1.16096346e-028,\n",
       "        1.04857803e-142],\n",
       "       [1.16467185e-028, 7.25941385e+271, 1.63672836e-152,\n",
       "        2.69371829e+132, 4.10115911e+223, 1.16633589e+200,\n",
       "        3.04519390e-067],\n",
       "       [1.21691782e+132, 4.10114366e+223, 1.10157796e+141,\n",
       "        5.86836989e-091, 5.04496173e+223, 1.02856463e+271,\n",
       "        1.21995056e-153],\n",
       "       [6.12743595e-154, 8.49052769e+136, 1.57563406e-153,\n",
       "        1.81154498e-152, 8.63403817e+140, 1.96860020e-062,\n",
       "        8.94279358e+130],\n",
       "       [8.53718807e+136, 1.21995029e-153, 6.12743595e-154,\n",
       "        8.49052769e+136, 1.57563406e-153, 5.88568417e+294,\n",
       "        1.08543213e-311]])"
      ]
     },
     "execution_count": 16,
     "metadata": {},
     "output_type": "execute_result"
    }
   ],
   "source": [
    "# Create an array with empty\n",
    "empty_array = np.empty((5,7))\n",
    "empty_array\n",
    "# fills with random numbers"
   ]
  },
  {
   "cell_type": "code",
   "execution_count": 17,
   "id": "84c00636",
   "metadata": {},
   "outputs": [
    {
     "name": "stdout",
     "output_type": "stream",
     "text": [
      "[ 0  1  2  3  4  5  6  7  8  9 10 11 12 13 14]\n"
     ]
    }
   ],
   "source": [
    "# Create an array with arange method\n",
    "# np.arange(10)\n",
    "numpy_arange = np.arange(15)\n",
    "print(numpy_arange)"
   ]
  },
  {
   "cell_type": "code",
   "execution_count": 18,
   "id": "d235b8dc",
   "metadata": {},
   "outputs": [
    {
     "data": {
      "text/plain": [
       "array([[ 0,  1,  2,  3,  4],\n",
       "       [ 5,  6,  7,  8,  9],\n",
       "       [10, 11, 12, 13, 14]])"
      ]
     },
     "execution_count": 18,
     "metadata": {},
     "output_type": "execute_result"
    }
   ],
   "source": [
    "# Reshape array\n",
    "# arr.reshape(3, 5)\n",
    "numpy_arange.reshape(3,5)"
   ]
  },
  {
   "cell_type": "code",
   "execution_count": 26,
   "id": "0b0cdd10",
   "metadata": {},
   "outputs": [
    {
     "data": {
      "text/plain": [
       "array([1.        , 1.44444444, 1.88888889, 2.33333333, 2.77777778,\n",
       "       3.22222222, 3.66666667, 4.11111111, 4.55555556, 5.        ])"
      ]
     },
     "execution_count": 26,
     "metadata": {},
     "output_type": "execute_result"
    }
   ],
   "source": [
    "# use linspace for linearly spaced data elements\n",
    "# In the linspace function,\n",
    "# 4 is the starting element and 13 is the end element.\n",
    "# The last number 7 specifies that a total of seven equally spaced elements should be created\n",
    "# between 4 and 13, both numbers inclusive. In this case,\n",
    "# the linspace function creates the following array: [ 4., 5.5, 7., 8.5, 10., 11.5, 13. ]\n",
    "np_linspace = np.linspace(1,5,10) # first element, last element, number of equidistant elements\n",
    "np_linspace"
   ]
  },
  {
   "cell_type": "code",
   "execution_count": 51,
   "id": "7d07dea6",
   "metadata": {},
   "outputs": [
    {
     "data": {
      "text/plain": [
       "array([ 0,  1,  2,  3,  4,  5,  6,  7,  8,  9, 10, 11, 12, 13, 14])"
      ]
     },
     "execution_count": 51,
     "metadata": {},
     "output_type": "execute_result"
    }
   ],
   "source": [
    "# One Dimensional Array\n",
    "oneD_array = np.arange(15)\n",
    "oneD_array"
   ]
  },
  {
   "cell_type": "code",
   "execution_count": 57,
   "id": "59e3a5b1",
   "metadata": {},
   "outputs": [
    {
     "data": {
      "text/plain": [
       "array([[ 0,  1,  2,  3,  4],\n",
       "       [ 5,  6,  7,  8,  9],\n",
       "       [10, 11, 12, 13, 14]])"
      ]
     },
     "execution_count": 57,
     "metadata": {},
     "output_type": "execute_result"
    }
   ],
   "source": [
    "# Two Dimensional Array\n",
    "twoD_array = oneD_array.reshape(3,5)\n",
    "twoD_array"
   ]
  },
  {
   "cell_type": "code",
   "execution_count": 60,
   "id": "a5997a4e",
   "metadata": {},
   "outputs": [
    {
     "data": {
      "text/plain": [
       "array([[[ 0,  1,  2],\n",
       "        [ 3,  4,  5],\n",
       "        [ 6,  7,  8]],\n",
       "\n",
       "       [[ 9, 10, 11],\n",
       "        [12, 13, 14],\n",
       "        [15, 16, 17]],\n",
       "\n",
       "       [[18, 19, 20],\n",
       "        [21, 22, 23],\n",
       "        [24, 25, 26]]])"
      ]
     },
     "execution_count": 60,
     "metadata": {},
     "output_type": "execute_result"
    }
   ],
   "source": [
    "# Three Dimensional Array\n",
    "threeD_array = np.arange(27).reshape(3,3,3)\n",
    "threeD_array"
   ]
  },
  {
   "cell_type": "code",
   "execution_count": 75,
   "id": "ae2dd17e",
   "metadata": {},
   "outputs": [
    {
     "name": "stdout",
     "output_type": "stream",
     "text": [
      "1\n",
      "2\n"
     ]
    }
   ],
   "source": [
    "# ndarray.ndim\n",
    "# refers to the number of axes (dimensions) of the array\n",
    "# It is also called as the rank of the array\n",
    "np_teams = np.array(['KKR', 'MI', 'CSK', 'SRH', 'DC', 'KXIP'])\n",
    "print(np_teams.ndim)\n",
    "np_teams_captians = np.array([['KKR', 'MI', 'CSK', 'SRH', 'DC', 'KXIP'],['Dinesh', 'Rohit', 'Dhoni', 'David', 'Pant', 'Rahul']])\n",
    "print(np_teams_captians.ndim)"
   ]
  },
  {
   "cell_type": "code",
   "execution_count": 76,
   "id": "3519ba9d",
   "metadata": {},
   "outputs": [
    {
     "name": "stdout",
     "output_type": "stream",
     "text": [
      "(6,)\n",
      "(2, 6)\n"
     ]
    }
   ],
   "source": [
    "# ndarry.shape\n",
    "# This consists of a tuple of integer showing the size of the array in each dimensions\n",
    "print(np_teams.shape)\n",
    "print(np_teams_captians.shape)"
   ]
  },
  {
   "cell_type": "code",
   "execution_count": 80,
   "id": "257cd5c5",
   "metadata": {},
   "outputs": [
    {
     "name": "stdout",
     "output_type": "stream",
     "text": [
      "6\n",
      "12\n"
     ]
    }
   ],
   "source": [
    "# ndarray.size\n",
    "print(np_teams.size)\n",
    "print(np_teams_captians.size)"
   ]
  },
  {
   "cell_type": "code",
   "execution_count": 82,
   "id": "bf29cd0c",
   "metadata": {},
   "outputs": [
    {
     "data": {
      "text/plain": [
       "array(['KKR', 'MI', 'CSK', 'SRH', 'DC', 'KXIP'], dtype='<U4')"
      ]
     },
     "execution_count": 82,
     "metadata": {},
     "output_type": "execute_result"
    }
   ],
   "source": [
    "# ndarray.dtype\n",
    "# an object that describes the type of the element in the array\n",
    "np_teams"
   ]
  },
  {
   "cell_type": "code",
   "execution_count": 83,
   "id": "511c5fe2",
   "metadata": {},
   "outputs": [
    {
     "data": {
      "text/plain": [
       "array([['KKR', 'MI', 'CSK', 'SRH', 'DC', 'KXIP'],\n",
       "       ['Dinesh', 'Rohit', 'Dhoni', 'David', 'Pant', 'Rahul']],\n",
       "      dtype='<U6')"
      ]
     },
     "execution_count": 83,
     "metadata": {},
     "output_type": "execute_result"
    }
   ],
   "source": [
    "np_teams_captians"
   ]
  },
  {
   "cell_type": "code",
   "execution_count": 84,
   "id": "1fc90d43",
   "metadata": {},
   "outputs": [
    {
     "data": {
      "text/plain": [
       "dtype('<U6')"
      ]
     },
     "execution_count": 84,
     "metadata": {},
     "output_type": "execute_result"
    }
   ],
   "source": [
    "np_teams_captians.dtype"
   ]
  },
  {
   "cell_type": "code",
   "execution_count": 87,
   "id": "a578a175",
   "metadata": {},
   "outputs": [
    {
     "name": "stdout",
     "output_type": "stream",
     "text": [
      "[31 46 68 91]\n"
     ]
    }
   ],
   "source": [
    "# Basic numpy operations\n",
    "# 1. Vector Addition\n",
    "dataset_one = [10,15,17,26]\n",
    "dataset_two = [21,31,51,65]\n",
    "np_dataset_one = np.array(dataset_one)\n",
    "np_dataset_two = np.array(dataset_two)\n",
    "np_total = np_dataset_one + np_dataset_two\n",
    "print(np_total)"
   ]
  },
  {
   "cell_type": "code",
   "execution_count": 89,
   "id": "bfed1672",
   "metadata": {},
   "outputs": [
    {
     "data": {
      "text/plain": [
       "array([31, 46, 68, 91])"
      ]
     },
     "execution_count": 89,
     "metadata": {},
     "output_type": "execute_result"
    }
   ],
   "source": [
    "np.add(np_dataset_one, np_dataset_two)"
   ]
  },
  {
   "cell_type": "code",
   "execution_count": 91,
   "id": "b809d03c",
   "metadata": {},
   "outputs": [
    {
     "data": {
      "text/plain": [
       "array([-11, -16, -34, -39])"
      ]
     },
     "execution_count": 91,
     "metadata": {},
     "output_type": "execute_result"
    }
   ],
   "source": [
    "np.subtract(np_dataset_one, np_dataset_two)"
   ]
  },
  {
   "cell_type": "code",
   "execution_count": 103,
   "id": "9ada495f",
   "metadata": {},
   "outputs": [
    {
     "name": "stdout",
     "output_type": "stream",
     "text": [
      "[ 70  80  50  40  90 130  10  40  30  50  80 100 110 120  40  40  40  80\n",
      "  60 120]\n"
     ]
    },
    {
     "data": {
      "text/plain": [
       "1380"
      ]
     },
     "execution_count": 103,
     "metadata": {},
     "output_type": "execute_result"
    }
   ],
   "source": [
    "# A man works for 20 days in a row at hourly rate of 10 dollars\n",
    "# given the hours he worked calculate one week's total income\n",
    "# 7 8 5 4 9 13 1 4 3 5 8 10 11 12 4 4 4 8 6 12\n",
    "arr = np.array([7, 8, 5, 4, 9, 13, 1, 4, 3, 5, 8, 10, 11, 12, 4, 4, 4, 8, 6, 12])*10\n",
    "print(arr)\n",
    "sum(arr)"
   ]
  },
  {
   "cell_type": "code",
   "execution_count": 106,
   "id": "429dc0f6",
   "metadata": {},
   "outputs": [
    {
     "name": "stdout",
     "output_type": "stream",
     "text": [
      "1435\n"
     ]
    }
   ],
   "source": [
    "# given a bonus of 5 dollars for working more than 5 hours\n",
    "# compare numpy data\n",
    "days = arr[arr>50].size\n",
    "print(sum(arr)+days*5)"
   ]
  },
  {
   "cell_type": "code",
   "execution_count": 110,
   "id": "f2b55642",
   "metadata": {},
   "outputs": [
    {
     "data": {
      "text/plain": [
       "array([False, False, False,  True, False, False, False,  True,  True,\n",
       "       False, False, False, False, False,  True,  True,  True, False,\n",
       "       False, False])"
      ]
     },
     "execution_count": 110,
     "metadata": {},
     "output_type": "execute_result"
    }
   ],
   "source": [
    "# penalty of 3 dollar for working less than 5 hours\n",
    "# logical and\n",
    "days = np.logical_and(arr>10,arr<50)\n",
    "days"
   ]
  },
  {
   "cell_type": "code",
   "execution_count": 112,
   "id": "e7ca6f66",
   "metadata": {},
   "outputs": [
    {
     "data": {
      "text/plain": [
       "array([False, False,  True,  True, False, False,  True,  True,  True,\n",
       "        True, False, False, False, False,  True,  True,  True, False,\n",
       "        True, False])"
      ]
     },
     "execution_count": 112,
     "metadata": {},
     "output_type": "execute_result"
    }
   ],
   "source": [
    "# logical not\n",
    "np.logical_not(arr>60)"
   ]
  },
  {
   "cell_type": "code",
   "execution_count": 38,
   "id": "9899fa5d",
   "metadata": {},
   "outputs": [
    {
     "name": "stdout",
     "output_type": "stream",
     "text": [
      "[[10 15 17 26]\n",
      " [22 23 24 25]]\n",
      "2\n",
      "(2, 4)\n",
      "8\n",
      "int32\n",
      "[10 15 17 26]\n",
      "1\n",
      "(4,)\n",
      "4\n",
      "int32\n",
      "[22 23 24 25]\n",
      "1\n",
      "(4,)\n",
      "4\n",
      "int32\n"
     ]
    }
   ],
   "source": [
    "trials = np.array([[10,15,17,26],[22,23,24,25]])\n",
    "print(trials)\n",
    "print(trials.ndim)\n",
    "print(trials.shape)\n",
    "print(trials.size)\n",
    "print(trials.dtype)\n",
    "\n",
    "trial_one = trials[0]\n",
    "print(trial_one)\n",
    "print(trial_one.ndim)\n",
    "print(trial_one.shape)\n",
    "print(trial_one.size)\n",
    "print(trial_one.dtype)\n",
    "\n",
    "trial_two = trials[1]\n",
    "print(trial_two)\n",
    "print(trial_two.ndim)\n",
    "print(trial_two.shape)\n",
    "print(trial_two.size)\n",
    "print(trial_two.dtype)"
   ]
  },
  {
   "cell_type": "code",
   "execution_count": 41,
   "id": "a0de4d4f",
   "metadata": {},
   "outputs": [
    {
     "data": {
      "text/plain": [
       "23"
      ]
     },
     "execution_count": 41,
     "metadata": {},
     "output_type": "execute_result"
    }
   ],
   "source": [
    "trials[1][1]"
   ]
  },
  {
   "cell_type": "code",
   "execution_count": 45,
   "id": "312ab487",
   "metadata": {},
   "outputs": [
    {
     "data": {
      "text/plain": [
       "array([15, 23])"
      ]
     },
     "execution_count": 45,
     "metadata": {},
     "output_type": "execute_result"
    }
   ],
   "source": [
    "trials[:,1] # if want to select both row from one column\n",
    "# use colon and then specify column after ,"
   ]
  },
  {
   "cell_type": "code",
   "execution_count": 43,
   "id": "b29dae8f",
   "metadata": {},
   "outputs": [
    {
     "data": {
      "text/plain": [
       "(2, 4)"
      ]
     },
     "execution_count": 43,
     "metadata": {},
     "output_type": "execute_result"
    }
   ],
   "source": [
    "trials.shape #  2rows 4columns"
   ]
  },
  {
   "cell_type": "code",
   "execution_count": 126,
   "id": "9cbdfad8",
   "metadata": {},
   "outputs": [
    {
     "data": {
      "text/plain": [
       "array([[17, 26],\n",
       "       [24, 25]])"
      ]
     },
     "execution_count": 126,
     "metadata": {},
     "output_type": "execute_result"
    }
   ],
   "source": [
    "# get data of 3rd and 4th row\n",
    "trials[:,2:] # last index in exclusive"
   ]
  },
  {
   "cell_type": "code",
   "execution_count": 128,
   "id": "77208a99",
   "metadata": {},
   "outputs": [
    {
     "data": {
      "text/plain": [
       "array([[15, 17],\n",
       "       [23, 24]])"
      ]
     },
     "execution_count": 128,
     "metadata": {},
     "output_type": "execute_result"
    }
   ],
   "source": [
    "# get data of 2nd and 3rd row\n",
    "trials[:,1:3]"
   ]
  },
  {
   "cell_type": "code",
   "execution_count": 132,
   "id": "14f42c9f",
   "metadata": {},
   "outputs": [
    {
     "name": "stdout",
     "output_type": "stream",
     "text": [
      "0 [10 15 17 26]\n",
      "1 [22 23 24 25]\n"
     ]
    }
   ],
   "source": [
    "# iterate through data\n",
    "for pos, data in enumerate(trials):\n",
    "    print(pos, data)"
   ]
  },
  {
   "cell_type": "code",
   "execution_count": 135,
   "id": "1973602f",
   "metadata": {},
   "outputs": [
    {
     "name": "stdout",
     "output_type": "stream",
     "text": [
      "[[False False False  True]\n",
      " [ True  True  True  True]]\n"
     ]
    },
    {
     "data": {
      "text/plain": [
       "array([26, 22, 23, 24, 25])"
      ]
     },
     "execution_count": 135,
     "metadata": {},
     "output_type": "execute_result"
    }
   ],
   "source": [
    "# Indexing with boolean array\n",
    "passed = trials>20\n",
    "print(passed) # get boolean array\n",
    "trials[passed] # get true values"
   ]
  }
 ],
 "metadata": {
  "kernelspec": {
   "display_name": "Python 3",
   "language": "python",
   "name": "python3"
  },
  "language_info": {
   "codemirror_mode": {
    "name": "ipython",
    "version": 3
   },
   "file_extension": ".py",
   "mimetype": "text/x-python",
   "name": "python",
   "nbconvert_exporter": "python",
   "pygments_lexer": "ipython3",
   "version": "3.8.8"
  }
 },
 "nbformat": 4,
 "nbformat_minor": 5
}
