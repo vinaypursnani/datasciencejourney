{
 "cells": [
  {
   "cell_type": "code",
   "execution_count": null,
   "id": "3597266d",
   "metadata": {},
   "outputs": [],
   "source": [
    "# The weave package provides tools to include C/C++ code within python\n",
    "# this offers an eassy way to modify and extend any supported extension libraries such as wxPython\n",
    "# speeds ups of 1.5x to 30x compared to algorithms written in pure python\n",
    "\n",
    "# The weave.inline() functions executes C/C++ code directly within python\n",
    "# whereas weave.blitz() translates Python NumPy expressions to C++ for faster execution"
   ]
  },
  {
   "cell_type": "code",
   "execution_count": null,
   "id": "a472de03",
   "metadata": {},
   "outputs": [],
   "source": [
    "# the IO package provides a set of functions to deal with several kinds of file formats.\n",
    "# it offers a set of functions to deal with file formats that includes:\n",
    "# MatLab file, IDL files, Matrix Market files, Wav sound files\n",
    "# Arff files Netcdf files\n",
    "# arff files for WEKA waikato environment for knowledge analysis"
   ]
  },
  {
   "cell_type": "code",
   "execution_count": null,
   "id": "e67a2dcf",
   "metadata": {},
   "outputs": [],
   "source": [
    "# additional packages\n",
    "# NumPy.loadtxt()/NumPy.savetxt()\n",
    "# NumPy.genfromtxt()/NumPy.recfromcsv()"
   ]
  },
  {
   "cell_type": "code",
   "execution_count": null,
   "id": "5131c6b7",
   "metadata": {},
   "outputs": [],
   "source": [
    "# SciPy is specially made to perform scientific calculations. \n",
    "# Generally, Python is a programming language that has libraries to perform all listed activities.\n",
    "\n",
    "# The function optimize.minimize() is used to calculate minima.\n",
    "# integrate.quad () is used for integral calculation,\n",
    "# stats.linregress() is used for linear regression,\n",
    "# and linalg.solve() is used for solving linear system.\n",
    "\n",
    "# The stats.t.rvs() function is used to generate random variables.\n",
    "# stats.t.pmf() function is used to generate probability of mass function,\n",
    "# and stats.t.pdf() is used to generate probability density function.\n",
    "# Note that stats.t.r and () does not exist.\n",
    "\n",
    "# inline() function accepts C codes as string and compiles them for later use.\n",
    "# loadmat() loads variables from .mat file.\n",
    "# whosmat() checks the variables inside a .mat file.blitz() and then compiles NumPy expressions\n",
    "# for faster running, but it can't accept C codes."
   ]
  }
 ],
 "metadata": {
  "kernelspec": {
   "display_name": "Python 3",
   "language": "python",
   "name": "python3"
  },
  "language_info": {
   "codemirror_mode": {
    "name": "ipython",
    "version": 3
   },
   "file_extension": ".py",
   "mimetype": "text/x-python",
   "name": "python",
   "nbconvert_exporter": "python",
   "pygments_lexer": "ipython3",
   "version": "3.8.8"
  }
 },
 "nbformat": 4,
 "nbformat_minor": 5
}
