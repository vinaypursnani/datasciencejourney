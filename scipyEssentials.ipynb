{
 "cells": [
  {
   "cell_type": "code",
   "execution_count": null,
   "id": "1e2629d1",
   "metadata": {},
   "outputs": [],
   "source": [
    "# scipy built in packages help in handling the scientific domains\n",
    "# mathematical integration\n",
    "# linear algebra\n",
    "# statistics\n",
    "# langauge integration C++\n",
    "# multidimenstional image processing\n",
    "# packages like integration, IO, linear algebra, optimize, statistics, weave packages"
   ]
  },
  {
   "cell_type": "code",
   "execution_count": null,
   "id": "dfff15aa",
   "metadata": {},
   "outputs": [],
   "source": [
    "# cluster - clustering algorithms\n",
    "# constants - physical and mathematical constant\n",
    "# fftpack - fast fourier transform routines\n",
    "# integrate - integration and ordinary differential equation solvers\n",
    "# spatial - problems related to graph, spatial data structures and algorithms\n",
    "# interpolation - Interpolation and smoothing splines it is used to create new data points for the given range of values. Lowerlimit and Upper limit of functions\n",
    "# IO input and Output\n",
    "# linalg - Linear Algebra\n",
    "# ndimage - contains different functions for multidimensional image processing\n",
    "# odr - orthogonal distance regression, to handle both implicit and explicit function definition\n",
    "# optimize - by fine tuning the process parameters, and root finding routines\n",
    "# signal processing - enabling technology that encompasses the theory and application of processing or trasferring information broadly designated as signals\n",
    "# sparse - two dimensional sparse matrix package for numeric data, sparce matrices and associated routines\n",
    "# weave - C/C++ integration\n",
    "# stats - probablity distributions and a growing library of statistical functions\n",
    "# special - special functions"
   ]
  },
  {
   "cell_type": "code",
   "execution_count": 11,
   "id": "df8c3c4c",
   "metadata": {},
   "outputs": [
    {
     "name": "stdout",
     "output_type": "stream",
     "text": [
      "(0.5, 5.551115123125783e-15)\n",
      "(3.5, 3.885780586188048e-14)\n"
     ]
    }
   ],
   "source": [
    "# Integration\n",
    "# integrate.quad(f,a,b)\n",
    "# quad means the function uses a technique from the Fortran library quad pack\n",
    "\n",
    "# Multiple Integration\n",
    "# integrate.dblquad() calculates double integral\n",
    "# integrate.tplquad() calculates triple integral\n",
    "# integrate.nquad() calculates n number of integrals, limits of all inner integrals need to be defined as functions\n",
    "\n",
    "from scipy.integrate import quad\n",
    "\n",
    "def integrateFunction(x):\n",
    "    return x\n",
    "\n",
    "print(quad(integrateFunction, 0, 1))\n",
    "\n",
    "def integrateFn(x,a,b):\n",
    "    return x*a+b\n",
    "\n",
    "a, b = 3, 2\n",
    "print(quad(integrateFn,0,1,args=(a,b)))"
   ]
  },
  {
   "cell_type": "code",
   "execution_count": 13,
   "id": "ba26e92f",
   "metadata": {},
   "outputs": [
    {
     "data": {
      "text/plain": [
       "(3.0, 4.436070580899685e-14)"
      ]
     },
     "execution_count": 13,
     "metadata": {},
     "output_type": "execute_result"
    }
   ],
   "source": [
    "# Double Integration\n",
    "import scipy.integrate as integrate\n",
    "def f(x,y):\n",
    "    return x+y\n",
    "integrate.dblquad(f, 0, 1, lambda x: 0, lambda x:2)\n",
    "# lamba is used to define range of integration\n",
    "# it evaluates the first condition and in the second condition \n",
    "# since x: 2 then lamba will peform the integration on first integration"
   ]
  },
  {
   "cell_type": "code",
   "execution_count": null,
   "id": "0f9be3f7",
   "metadata": {},
   "outputs": [],
   "source": [
    "# Optimization "
   ]
  }
 ],
 "metadata": {
  "kernelspec": {
   "display_name": "Python 3",
   "language": "python",
   "name": "python3"
  },
  "language_info": {
   "codemirror_mode": {
    "name": "ipython",
    "version": 3
   },
   "file_extension": ".py",
   "mimetype": "text/x-python",
   "name": "python",
   "nbconvert_exporter": "python",
   "pygments_lexer": "ipython3",
   "version": "3.8.8"
  }
 },
 "nbformat": 4,
 "nbformat_minor": 5
}
