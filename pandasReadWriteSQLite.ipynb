{
 "cells": [
  {
   "cell_type": "code",
   "execution_count": null,
   "id": "151cfc27",
   "metadata": {},
   "outputs": [],
   "source": [
    "# supported file types\n",
    "# read method indicates abilty to read a file type\n",
    "# and write method to write a particular file\n",
    "# 1. read_excel_to_excel\n",
    "# 2. read_hdf_to_hdf\n",
    "# 3. read_clipboard_to_clipboard\n",
    "# 4. read_html_to_html\n",
    "# 5. read_pickle_to_pickle\n",
    "# 6. read_stata_stata\n",
    "# 7. read_sas_to_sas\n",
    "# 8. read_sql_to_sql\n",
    "# 9. read_json_to_json\n",
    "# 10. read_csv_to_csv\n",
    "# 11. read_excel_to_excel"
   ]
  },
  {
   "cell_type": "code",
   "execution_count": 1,
   "id": "a8df516b",
   "metadata": {},
   "outputs": [],
   "source": [
    "import pandas as pd\n",
    "import sqlite3"
   ]
  },
  {
   "cell_type": "code",
   "execution_count": 2,
   "id": "88471685",
   "metadata": {},
   "outputs": [],
   "source": [
    "create_table = \"\"\"CREATE TABLE student_score(\n",
    "Id INTEGER,\n",
    "Name VARCHAR(20),\n",
    "Math REAL,\n",
    "Science REAL);\"\"\""
   ]
  },
  {
   "cell_type": "code",
   "execution_count": 4,
   "id": "274aeff6",
   "metadata": {},
   "outputs": [],
   "source": [
    "executeSQL = sqlite3.connect(':memory:') # used to connect with sqlite3 memory database\n",
    "executeSQL.execute(create_table)\n",
    "executeSQL.commit() # commit method commits the transaction and creates a table"
   ]
  },
  {
   "cell_type": "code",
   "execution_count": 5,
   "id": "074ab9c2",
   "metadata": {},
   "outputs": [],
   "source": [
    "# prepare sql query\n",
    "SQL_query = executeSQL.execute('select * from student_score')"
   ]
  },
  {
   "cell_type": "code",
   "execution_count": 6,
   "id": "7255f13e",
   "metadata": {},
   "outputs": [],
   "source": [
    "# fetch result from sqlite database\n",
    "resultset = SQL_query.fetchall()"
   ]
  },
  {
   "cell_type": "code",
   "execution_count": 7,
   "id": "56846ca0",
   "metadata": {},
   "outputs": [
    {
     "data": {
      "text/plain": [
       "[]"
      ]
     },
     "execution_count": 7,
     "metadata": {},
     "output_type": "execute_result"
    }
   ],
   "source": [
    "# view result\n",
    "resultset # empty set"
   ]
  },
  {
   "cell_type": "code",
   "execution_count": 9,
   "id": "3e37630c",
   "metadata": {},
   "outputs": [],
   "source": [
    "# inserting values in above sqlite created table\n",
    "insertSQL = [(10,'Vinay',85,92),(29,'Varun',73,89),(65,'Ram',65.5,77),(5, 'Justin',55,91)]\n",
    "insert_statement = \"Insert into student_score values (?,?,?,?)\"\n",
    "executeSQL.executemany(insert_statement, insertSQL)\n",
    "executeSQL.commit()"
   ]
  },
  {
   "cell_type": "code",
   "execution_count": 10,
   "id": "7390e1ed",
   "metadata": {},
   "outputs": [],
   "source": [
    "# prepare SQL query\n",
    "SQL_query = executeSQL.execute(\"select * from student_score\") "
   ]
  },
  {
   "cell_type": "code",
   "execution_count": 11,
   "id": "c587cc6c",
   "metadata": {},
   "outputs": [],
   "source": [
    "# fetch the resultset for the query\n",
    "resultset = SQL_query.fetchall()"
   ]
  },
  {
   "cell_type": "code",
   "execution_count": 12,
   "id": "49b59c4c",
   "metadata": {},
   "outputs": [
    {
     "data": {
      "text/plain": [
       "[(10, 'Vinay', 85.0, 92.0),\n",
       " (29, 'Varun', 73.0, 89.0),\n",
       " (65, 'Ram', 65.5, 77.0),\n",
       " (5, 'Justin', 55.0, 91.0)]"
      ]
     },
     "execution_count": 12,
     "metadata": {},
     "output_type": "execute_result"
    }
   ],
   "source": [
    "resultset"
   ]
  },
  {
   "cell_type": "code",
   "execution_count": 14,
   "id": "759d76c6",
   "metadata": {},
   "outputs": [
    {
     "ename": "TypeError",
     "evalue": "'zip' object is not subscriptable",
     "output_type": "error",
     "traceback": [
      "\u001b[1;31m---------------------------------------------------------------------------\u001b[0m",
      "\u001b[1;31mTypeError\u001b[0m                                 Traceback (most recent call last)",
      "\u001b[1;32m<ipython-input-14-396ba0eeb1a9>\u001b[0m in \u001b[0;36m<module>\u001b[1;34m\u001b[0m\n\u001b[1;32m----> 1\u001b[1;33m \u001b[0mdf_students\u001b[0m \u001b[1;33m=\u001b[0m \u001b[0mpd\u001b[0m\u001b[1;33m.\u001b[0m\u001b[0mDataFrame\u001b[0m\u001b[1;33m(\u001b[0m\u001b[0mresultset\u001b[0m\u001b[1;33m,\u001b[0m \u001b[0mcolumns\u001b[0m\u001b[1;33m=\u001b[0m\u001b[0mzip\u001b[0m\u001b[1;33m(\u001b[0m\u001b[1;33m*\u001b[0m\u001b[0mSQL_query\u001b[0m\u001b[1;33m.\u001b[0m\u001b[0mdescription\u001b[0m\u001b[1;33m)\u001b[0m\u001b[1;33m[\u001b[0m\u001b[1;36m0\u001b[0m\u001b[1;33m]\u001b[0m\u001b[1;33m)\u001b[0m\u001b[1;33m\u001b[0m\u001b[1;33m\u001b[0m\u001b[0m\n\u001b[0m\u001b[0;32m      2\u001b[0m \u001b[0mdf_students\u001b[0m\u001b[1;33m\u001b[0m\u001b[1;33m\u001b[0m\u001b[0m\n",
      "\u001b[1;31mTypeError\u001b[0m: 'zip' object is not subscriptable"
     ]
    }
   ],
   "source": [
    "df_students = pd.DataFrame(resultset, columns=zip(*SQL_query.description)[0])\n",
    "df_students"
   ]
  }
 ],
 "metadata": {
  "kernelspec": {
   "display_name": "Python 3",
   "language": "python",
   "name": "python3"
  },
  "language_info": {
   "codemirror_mode": {
    "name": "ipython",
    "version": 3
   },
   "file_extension": ".py",
   "mimetype": "text/x-python",
   "name": "python",
   "nbconvert_exporter": "python",
   "pygments_lexer": "ipython3",
   "version": "3.8.8"
  }
 },
 "nbformat": 4,
 "nbformat_minor": 5
}
