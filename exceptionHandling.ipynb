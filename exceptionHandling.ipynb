{
 "cells": [
  {
   "cell_type": "code",
   "execution_count": 1,
   "id": "cbf5fb9d",
   "metadata": {},
   "outputs": [],
   "source": [
    "def my_float(num):\n",
    "    return float(num)"
   ]
  },
  {
   "cell_type": "code",
   "execution_count": 3,
   "id": "cb5bade7",
   "metadata": {},
   "outputs": [
    {
     "data": {
      "text/plain": [
       "7.12345"
      ]
     },
     "execution_count": 3,
     "metadata": {},
     "output_type": "execute_result"
    }
   ],
   "source": [
    "my_float(7.12345)"
   ]
  },
  {
   "cell_type": "code",
   "execution_count": 4,
   "id": "acefaee9",
   "metadata": {},
   "outputs": [
    {
     "ename": "ValueError",
     "evalue": "could not convert string to float: 'Passing String instead of float'",
     "output_type": "error",
     "traceback": [
      "\u001b[1;31m---------------------------------------------------------------------------\u001b[0m",
      "\u001b[1;31mValueError\u001b[0m                                Traceback (most recent call last)",
      "\u001b[1;32m<ipython-input-4-d57b3d358113>\u001b[0m in \u001b[0;36m<module>\u001b[1;34m\u001b[0m\n\u001b[1;32m----> 1\u001b[1;33m \u001b[0mmy_float\u001b[0m\u001b[1;33m(\u001b[0m\u001b[1;34m'Passing String instead of float'\u001b[0m\u001b[1;33m)\u001b[0m\u001b[1;33m\u001b[0m\u001b[1;33m\u001b[0m\u001b[0m\n\u001b[0m",
      "\u001b[1;32m<ipython-input-1-e34e08b3abed>\u001b[0m in \u001b[0;36mmy_float\u001b[1;34m(num)\u001b[0m\n\u001b[0;32m      1\u001b[0m \u001b[1;32mdef\u001b[0m \u001b[0mmy_float\u001b[0m\u001b[1;33m(\u001b[0m\u001b[0mnum\u001b[0m\u001b[1;33m)\u001b[0m\u001b[1;33m:\u001b[0m\u001b[1;33m\u001b[0m\u001b[1;33m\u001b[0m\u001b[0m\n\u001b[1;32m----> 2\u001b[1;33m     \u001b[1;32mreturn\u001b[0m \u001b[0mfloat\u001b[0m\u001b[1;33m(\u001b[0m\u001b[0mnum\u001b[0m\u001b[1;33m)\u001b[0m\u001b[1;33m\u001b[0m\u001b[1;33m\u001b[0m\u001b[0m\n\u001b[0m",
      "\u001b[1;31mValueError\u001b[0m: could not convert string to float: 'Passing String instead of float'"
     ]
    }
   ],
   "source": [
    "my_float('Passing String instead of float')"
   ]
  },
  {
   "cell_type": "code",
   "execution_count": 6,
   "id": "d34e27c6",
   "metadata": {},
   "outputs": [],
   "source": [
    "def my_float(num):\n",
    "    try:\n",
    "        return float(num)\n",
    "    except ValueError:\n",
    "        return 'invalid value', num"
   ]
  },
  {
   "cell_type": "code",
   "execution_count": 8,
   "id": "17126e6d",
   "metadata": {},
   "outputs": [
    {
     "name": "stdout",
     "output_type": "stream",
     "text": [
      "('invalid value', 'Passing String instead of float')\n",
      "<class 'tuple'>\n"
     ]
    }
   ],
   "source": [
    "print(my_float('Passing String instead of float'))\n",
    "print(type(my_float('Passing String instead of float')))"
   ]
  }
 ],
 "metadata": {
  "kernelspec": {
   "display_name": "Python 3",
   "language": "python",
   "name": "python3"
  },
  "language_info": {
   "codemirror_mode": {
    "name": "ipython",
    "version": 3
   },
   "file_extension": ".py",
   "mimetype": "text/x-python",
   "name": "python",
   "nbconvert_exporter": "python",
   "pygments_lexer": "ipython3",
   "version": "3.8.8"
  }
 },
 "nbformat": 4,
 "nbformat_minor": 5
}
