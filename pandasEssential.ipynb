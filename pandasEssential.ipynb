{
 "cells": [
  {
   "cell_type": "code",
   "execution_count": null,
   "id": "b0988caa",
   "metadata": {},
   "outputs": [],
   "source": [
    "# Pandas Features\n",
    "# different data structures of Pandas\n",
    "# panda series and DataFrame with data inputs\n",
    "# Viewing, selecting, accessing elements in a data structure\n",
    "# vectorized operation handling\n",
    "# handle missing values\n",
    "# analyze data"
   ]
  },
  {
   "cell_type": "code",
   "execution_count": null,
   "id": "a63e09ae",
   "metadata": {},
   "outputs": [],
   "source": [
    "# data munging, data wrangling, Pandas Features (built on top of numpy)\n",
    "# 1. Intrinsic data alignment\n",
    "# 2. Data Operation functions - groupby, join, merge, efficient for data wrangling and manipulation\n",
    "# 3. Functions for handling missing data\n",
    "# 4. Data standardisation\n",
    "# 5. data structure - Series, one dimensional DataFrame, two dimensional\n",
    "# 6. Easy data transformation and aggregation \n",
    "# 7. Tools for reading and writing data\n",
    "# 8. Intelligent and automated data alignment\n",
    "# 9. High performance merging and joining of data sets"
   ]
  },
  {
   "cell_type": "code",
   "execution_count": null,
   "id": "66617bc1",
   "metadata": {},
   "outputs": [],
   "source": [
    "# Four main Pandas DATA STRUCTURE\n",
    "# 1. Series, one dimensional array like structure used to represent a dataset, supports multiple datatype\n",
    "\n",
    "# Data alignment is intrinsic in Pandas data structure and happens automatically.\n",
    "# One can also assign index to data elements.\n",
    "# data and labels(or index)\n",
    "# data alignment, intrinsic, does not changed until forced by external program or re-indexing\n",
    "# Data  4, 11, 21, 36\n",
    "# Label 0,  1,  2,  3\n",
    "\n",
    "# Series Data Types   Data Inputs can be\n",
    "# Integer             ndarray\n",
    "# String              dict\n",
    "# Python Object       scalar\n",
    "# Floating Point      list\n",
    "\n",
    "# Pandas Series can be created using\n",
    "# ndarray, when data set is number centric and requires complex numerical computing\n",
    "# dict, very efficient when it comes to indexing or reindexing a data set for wrangling purposes\n",
    "# scalar, standalone quantity, can be used both with vector and scalar datasets that can be used accordingly\n",
    "# list, for dataset with multiple data types"
   ]
  },
  {
   "cell_type": "code",
   "execution_count": 29,
   "id": "5fb9aee3",
   "metadata": {},
   "outputs": [
    {
     "name": "stdout",
     "output_type": "stream",
     "text": [
      "first\n",
      " 0    a\n",
      "1    b\n",
      "2    c\n",
      "3    d\n",
      "4    e\n",
      "5    f\n",
      "dtype: object \n",
      "\n",
      "show_series\n",
      " 0        Lux\n",
      "1    Lucifer\n",
      "2      Chloe\n",
      "3       Thor\n",
      "dtype: object \n",
      "\n",
      "dict_show\n",
      " Lux        123.5\n",
      "Lucifer    154.0\n",
      "Chloe      155.0\n",
      "Thor       156.0\n",
      "dtype: float64 \n",
      "\n",
      "scal\n",
      " a    5\n",
      "b    5\n",
      "c    5\n",
      "d    5\n",
      "e    5\n",
      "dtype: int64 \n",
      "\n",
      "show[0]\n",
      " Lux \n",
      "\n",
      "show[0]\n",
      " ['Lux' 'Lucifer' 'Chloe' 'Thor'] \n",
      "\n",
      "dict_show.iloc[0]\n",
      " 123.5 \n",
      "\n",
      "dict_show.loc[lux]\n",
      " 123.5 \n",
      "\n",
      "sum_vector\n",
      " one       6\n",
      "two       8\n",
      "three    10\n",
      "four     12\n",
      "dtype: int64 \n",
      "\n",
      "fir+second_index_shuffle\n",
      " four     11\n",
      "one       7\n",
      "three    11\n",
      "two       7\n",
      "dtype: int64 \n",
      "\n",
      "second_nan+fir five     NaN\n",
      "four     NaN\n",
      "one      2.0\n",
      "seven    NaN\n",
      "six      NaN\n",
      "three    NaN\n",
      "two      NaN\n",
      "dtype: float64 \n",
      "\n"
     ]
    }
   ],
   "source": [
    "import pandas as pd\n",
    "import numpy as np\n",
    "\n",
    "#S = pd.Series(data, index = [index])3\n",
    "first = pd.Series(list('abcdef'))\n",
    "print('first\\n', first, '\\n') #automatic data alignment, list was passed as an object\n",
    "\n",
    "# series from nd array\n",
    "show = np.array(['Lux','Lucifer','Chloe','Thor'])\n",
    "show_series = pd.Series(show)\n",
    "print('show_series\\n', show_series, '\\n')\n",
    "\n",
    "# Series from dict\n",
    "dict_show = pd.Series([123.5,154,155,156],index = ['Lux','Lucifer','Chloe','Thor'])\n",
    "print('dict_show\\n', dict_show,'\\n')\n",
    "\n",
    "# Series from scalar\n",
    "scal = pd.Series(5, index=['a','b','c','d','e'])\n",
    "print('scal\\n', scal,'\\n')\n",
    "\n",
    "# Access elements in the series\n",
    "print('show[0]\\n', show[0],'\\n') \n",
    "\n",
    "print('show[0]\\n', show[0:5],'\\n')\n",
    "\n",
    "# Lookup by name or index\n",
    "print('dict_show.iloc[0]\\n', dict_show.iloc[0],'\\n')\n",
    "print('dict_show.loc[lux]\\n', dict_show.loc['Lux'],'\\n')\n",
    "\n",
    "# Vectorized operations through index\n",
    "fir = pd.Series([1,2,3,4], index = ['one', 'two', 'three', 'four'])\n",
    "second = pd.Series([5,6,7,8], index = ['one', 'two', 'three', 'four'])\n",
    "sum_vector = fir+second\n",
    "print('sum_vector\\n',sum_vector,'\\n')\n",
    "\n",
    "second_index_shuffle = pd.Series([5,6,7,8], index = ['two','one','four','three'])\n",
    "print('fir+second_index_shuffle\\n',fir+second_index_shuffle,'\\n') # output will be different,as the data element bound to index\n",
    "\n",
    "second_nan = pd.Series([1,2,3,4],index=['one','five', 'six','seven']) # index size should be same \n",
    "print('second_nan+fir', second_nan+fir, '\\n') # but when values differ NaN is produced for new indices\n",
    "# he result be in vector addition if label is not found in a series\n",
    "# The result will be marked as NaN (Not a Number) for missing labels."
   ]
  },
  {
   "cell_type": "code",
   "execution_count": 32,
   "id": "0013dcda",
   "metadata": {},
   "outputs": [
    {
     "name": "stdout",
     "output_type": "stream",
     "text": [
      "      City  Year  No. of Participating countires\n",
      "0   London  2012                             205\n",
      "1  Beijing  2008                             204\n",
      "2   Athens  2004                             201\n",
      "3   Sydney  2000                             200\n",
      "4  Atlanta  1996                             197\n",
      "      London  Beijing\n",
      "2012   205.0      NaN\n",
      "2008     NaN   2004.0\n"
     ]
    }
   ],
   "source": [
    "# 2. DataFrame, two dimensional labeled array, supports multiple data type\n",
    "# can be visualised as a typical spreadsheet structure or a SQL database table with rows and col\n",
    "# DF input can be a Series or another DataFrame\n",
    "dataset = {'City': ['London', 'Beijing', 'Athens', 'Sydney', 'Atlanta'], \n",
    "          'Year': [2012, 2008,2004,2000,1996],\n",
    "          'No. of Participating countires': [205,204,201,200,197]}\n",
    "df = pd.DataFrame(dataset)\n",
    "print(df)\n",
    "\n",
    "# DF input dict\n",
    "dataset_dict = {'London':{2012:205}, 'Beijing':{2008:2004}}\n",
    "df_dataset_dict = pd.DataFrame(dataset_dict)\n",
    "print(df_dataset_dict)"
   ]
  },
  {
   "cell_type": "code",
   "execution_count": 39,
   "id": "56bf5bc7",
   "metadata": {},
   "outputs": [
    {
     "name": "stdout",
     "output_type": "stream",
     "text": [
      "0     London\n",
      "1    Beijing\n",
      "2     Athens\n",
      "3     Sydney\n",
      "4    Atlanta\n",
      "Name: City, dtype: object\n",
      "0    2012\n",
      "1    2008\n",
      "2    2004\n",
      "3    2000\n",
      "4    1996\n",
      "Name: Year, dtype: int64\n",
      "\n",
      " <bound method NDFrame.describe of       City  Year  No. of Participating countires\n",
      "0   London  2012                             205\n",
      "1  Beijing  2008                             204\n",
      "2   Athens  2004                             201\n",
      "3   Sydney  2000                             200\n",
      "4  Atlanta  1996                             197>\n"
     ]
    }
   ],
   "source": [
    "print(df.City)\n",
    "print(df.Year)\n",
    "print('\\n', df.describe)"
   ]
  },
  {
   "cell_type": "code",
   "execution_count": 43,
   "id": "354495d7",
   "metadata": {},
   "outputs": [
    {
     "name": "stdout",
     "output_type": "stream",
     "text": [
      "     Host Cities  No of Participating Countries\n",
      "2012      London                            205\n",
      "2008     Beijing                            204\n",
      "2004      Athens                            201\n",
      "2000      Sydney                            200\n",
      "1996     Atlanta                            197\n"
     ]
    }
   ],
   "source": [
    "# DataFrame using Series input\n",
    "series_num_year = pd.Series([205,204,201,200,197], index = [2012, 2008, 2004, 2000, 1996])\n",
    "series_name = pd.Series(['London', 'Beijing', 'Athens', 'Sydney', 'Atlanta'],\n",
    "                        index = [2012, 2008, 2004, 2000, 1996])\n",
    "# passing series as Dicts\n",
    "df_series = pd.DataFrame({'Host Cities': series_name, 'No of Participating Countries': series_num_year})\n",
    "print(df_series)"
   ]
  },
  {
   "cell_type": "code",
   "execution_count": 46,
   "id": "b5ea3ab1",
   "metadata": {},
   "outputs": [
    {
     "name": "stdout",
     "output_type": "stream",
     "text": [
      "   year\n",
      "0  2012\n",
      "1  2008\n",
      "2  2004\n",
      "3  2006\n"
     ]
    }
   ],
   "source": [
    "# DataFrame using ndarray\n",
    "import numpy as np\n",
    "np_array = np.array([2012, 2008,2004,2006])\n",
    "dict_ndarray = {'year': np_array}\n",
    "\n",
    "#passing array in data frame as object\n",
    "df_ndarray = pd.DataFrame(dict_ndarray)\n",
    "print(df_ndarray)"
   ]
  },
  {
   "cell_type": "code",
   "execution_count": 50,
   "id": "1793e6ea",
   "metadata": {},
   "outputs": [
    {
     "data": {
      "text/html": [
       "<div>\n",
       "<style scoped>\n",
       "    .dataframe tbody tr th:only-of-type {\n",
       "        vertical-align: middle;\n",
       "    }\n",
       "\n",
       "    .dataframe tbody tr th {\n",
       "        vertical-align: top;\n",
       "    }\n",
       "\n",
       "    .dataframe thead th {\n",
       "        text-align: right;\n",
       "    }\n",
       "</style>\n",
       "<table border=\"1\" class=\"dataframe\">\n",
       "  <thead>\n",
       "    <tr style=\"text-align: right;\">\n",
       "      <th></th>\n",
       "      <th>Host Cities</th>\n",
       "      <th>No of Participating Countries</th>\n",
       "    </tr>\n",
       "  </thead>\n",
       "  <tbody>\n",
       "    <tr>\n",
       "      <th>2012</th>\n",
       "      <td>London</td>\n",
       "      <td>205</td>\n",
       "    </tr>\n",
       "    <tr>\n",
       "      <th>2008</th>\n",
       "      <td>Beijing</td>\n",
       "      <td>204</td>\n",
       "    </tr>\n",
       "    <tr>\n",
       "      <th>2004</th>\n",
       "      <td>Athens</td>\n",
       "      <td>201</td>\n",
       "    </tr>\n",
       "    <tr>\n",
       "      <th>2000</th>\n",
       "      <td>Sydney</td>\n",
       "      <td>200</td>\n",
       "    </tr>\n",
       "    <tr>\n",
       "      <th>1996</th>\n",
       "      <td>Atlanta</td>\n",
       "      <td>197</td>\n",
       "    </tr>\n",
       "  </tbody>\n",
       "</table>\n",
       "</div>"
      ],
      "text/plain": [
       "     Host Cities  No of Participating Countries\n",
       "2012      London                            205\n",
       "2008     Beijing                            204\n",
       "2004      Athens                            201\n",
       "2000      Sydney                            200\n",
       "1996     Atlanta                            197"
      ]
     },
     "execution_count": 50,
     "metadata": {},
     "output_type": "execute_result"
    }
   ],
   "source": [
    "# DataFrame from a DataFrame\n",
    "df_from_df = pd.DataFrame(df_series)\n",
    "df_from_df"
   ]
  },
  {
   "cell_type": "code",
   "execution_count": null,
   "id": "90c80eac",
   "metadata": {},
   "outputs": [],
   "source": [
    "# 3. Panel, three dimensional labeled array, supports multiple data type\n",
    "# Items -> axis 0\n",
    "# Major axis -> rows\n",
    "# Minor axis -> columns"
   ]
  },
  {
   "cell_type": "code",
   "execution_count": null,
   "id": "972ee3d8",
   "metadata": {},
   "outputs": [],
   "source": [
    "# 4. Panel 4D, experimental\n",
    "# Labels -> axis 0\n",
    "# Items -> axis 1\n",
    "# Major axis -> rows\n",
    "# Minor axis -> columns"
   ]
  }
 ],
 "metadata": {
  "kernelspec": {
   "display_name": "Python 3",
   "language": "python",
   "name": "python3"
  },
  "language_info": {
   "codemirror_mode": {
    "name": "ipython",
    "version": 3
   },
   "file_extension": ".py",
   "mimetype": "text/x-python",
   "name": "python",
   "nbconvert_exporter": "python",
   "pygments_lexer": "ipython3",
   "version": "3.8.8"
  }
 },
 "nbformat": 4,
 "nbformat_minor": 5
}
