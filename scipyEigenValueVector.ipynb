{
 "cells": [
  {
   "cell_type": "code",
   "execution_count": 2,
   "id": "d667f75a",
   "metadata": {},
   "outputs": [],
   "source": [
    "# import required libraries\n",
    "import numpy as np\n",
    "from scipy import linalg"
   ]
  },
  {
   "cell_type": "code",
   "execution_count": 6,
   "id": "705e60ba",
   "metadata": {},
   "outputs": [],
   "source": [
    "# test_data matrix - (rating on scale of 10)\n",
    "test_data = np.array([[5,8],[7,9]])\n",
    "eigenValues, eigenVector = linalg.eig(test_data)\n",
    "first_eigen, second_eigen = eigenValues"
   ]
  },
  {
   "cell_type": "code",
   "execution_count": 7,
   "id": "1aa9e3ff",
   "metadata": {},
   "outputs": [
    {
     "name": "stdout",
     "output_type": "stream",
     "text": [
      "eigenValues [-0.74596669+0.j 14.74596669+0.j]\n",
      "eigenVector [[-0.81220939 -0.63447346]\n",
      " [ 0.58336601 -0.77294465]]\n",
      "first_eigen (-0.745966692414834+0j)\n",
      "second_eigen (14.745966692414834+0j)\n"
     ]
    }
   ],
   "source": [
    "# print eigenvalues (first and second eigenvalues)\n",
    "print('eigenValues', eigenValues)\n",
    "print('eigenVector', eigenVector)\n",
    "print('first_eigen', first_eigen)\n",
    "print('second_eigen', second_eigen)"
   ]
  },
  {
   "cell_type": "code",
   "execution_count": 8,
   "id": "ee3caccc",
   "metadata": {},
   "outputs": [
    {
     "name": "stdout",
     "output_type": "stream",
     "text": [
      "[-0.81220939  0.58336601]\n"
     ]
    }
   ],
   "source": [
    "# print first eigenvector\n",
    "print(eigenVector[:,0])"
   ]
  },
  {
   "cell_type": "code",
   "execution_count": 10,
   "id": "22cf8966",
   "metadata": {},
   "outputs": [
    {
     "name": "stdout",
     "output_type": "stream",
     "text": [
      "[-0.63447346 -0.77294465]\n"
     ]
    }
   ],
   "source": [
    "# print second eigenvector\n",
    "print(eigenVector[:,1])"
   ]
  },
  {
   "cell_type": "code",
   "execution_count": null,
   "id": "fe7411ab",
   "metadata": {},
   "outputs": [],
   "source": [
    "# SciPy.linalg is used to inverse the matrix."
   ]
  }
 ],
 "metadata": {
  "kernelspec": {
   "display_name": "Python 3",
   "language": "python",
   "name": "python3"
  },
  "language_info": {
   "codemirror_mode": {
    "name": "ipython",
    "version": 3
   },
   "file_extension": ".py",
   "mimetype": "text/x-python",
   "name": "python",
   "nbconvert_exporter": "python",
   "pygments_lexer": "ipython3",
   "version": "3.8.8"
  }
 },
 "nbformat": 4,
 "nbformat_minor": 5
}
