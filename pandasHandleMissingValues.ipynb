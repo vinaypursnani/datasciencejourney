{
 "cells": [
  {
   "cell_type": "code",
   "execution_count": null,
   "id": "7e211c35",
   "metadata": {},
   "outputs": [],
   "source": [
    " # Reasons for inadequate or missing data\n",
    "    # 1. Data not providede by the scource\n",
    "    # 2. Network issue, such as network or connection outage\n",
    "    # 3. Data Integration process tries to fetch data from various sources but fails to integrate\n",
    "    # 4. Software issues, encoding and formatting are attributes of missing data issue\n",
    "    "
   ]
  },
  {
   "cell_type": "code",
   "execution_count": 2,
   "id": "54189d71",
   "metadata": {},
   "outputs": [],
   "source": [
    "import numpy as np\n",
    "import pandas as pd"
   ]
  },
  {
   "cell_type": "code",
   "execution_count": 10,
   "id": "4ef8da70",
   "metadata": {},
   "outputs": [
    {
     "name": "stdout",
     "output_type": "stream",
     "text": [
      "a     NaN\n",
      "b     NaN\n",
      "c    31.0\n",
      "d    42.0\n",
      "e    53.0\n",
      "f     NaN\n",
      "g     NaN\n",
      "dtype: float64\n",
      "c    31.0\n",
      "d    42.0\n",
      "e    53.0\n",
      "dtype: float64\n",
      "a     0.0\n",
      "b     0.0\n",
      "c    31.0\n",
      "d    42.0\n",
      "e    53.0\n",
      "f     0.0\n",
      "g     0.0\n",
      "dtype: float64\n",
      "a    13.0\n",
      "b    23.0\n",
      "c    31.0\n",
      "d    42.0\n",
      "e    53.0\n",
      "f     7.0\n",
      "g     8.0\n",
      "dtype: float64\n"
     ]
    }
   ],
   "source": [
    "# Handling missing data\n",
    "first = pd.Series([10,20,30,40,50], index = ['a','b','c','d','e'])\n",
    "second = pd.Series([1,2,3,4,5], index = ['c','d','e','f','g'])\n",
    "sums = first+second\n",
    "print(sums)\n",
    "\n",
    "# df.dropna\n",
    "\n",
    "drop_na_sums = sums.dropna()\n",
    "print(drop_na_sums)\n",
    "\n",
    "# df.fillna\n",
    "\n",
    "fill_na_sums = sums.fillna(0)\n",
    "print(fill_na_sums)\n",
    "\n",
    "# adding series by df.add(df2,fill_value=0)\n",
    "sums_fillna = first.add(second,fill_value=3)\n",
    "print(sums_fillna) # fill value will be added to the original values for which indices do not match"
   ]
  }
 ],
 "metadata": {
  "kernelspec": {
   "display_name": "Python 3",
   "language": "python",
   "name": "python3"
  },
  "language_info": {
   "codemirror_mode": {
    "name": "ipython",
    "version": 3
   },
   "file_extension": ".py",
   "mimetype": "text/x-python",
   "name": "python",
   "nbconvert_exporter": "python",
   "pygments_lexer": "ipython3",
   "version": "3.8.8"
  }
 },
 "nbformat": 4,
 "nbformat_minor": 5
}
