{
 "cells": [
  {
   "cell_type": "markdown",
   "metadata": {},
   "source": [
    "#### 1: Import required library\n"
   ]
  },
  {
   "cell_type": "code",
   "execution_count": 2,
   "metadata": {},
   "outputs": [],
   "source": [
    "import numpy as np\n",
    "from scipy.stats import norm"
   ]
  },
  {
   "cell_type": "code",
   "execution_count": 6,
   "metadata": {},
   "outputs": [
    {
     "name": "stdout",
     "output_type": "stream",
     "text": [
      "[ 0.0116944   2.71194735  1.38767798 -1.12705549 -0.82959889  1.29771547\n",
      " -1.03311251  0.04629025 -0.75153439  0.34957743 -0.62097782 -0.25622251\n",
      " -0.57067072 -0.46809711  0.61354619 -0.53182372 -0.67461035 -1.2301618\n",
      " -0.75930428 -0.30378956]\n"
     ]
    }
   ],
   "source": [
    "# 20 variables for normal distribution of data\n",
    "norm_rvs = norm.rvs(loc=0, scale=1, size=20)\n",
    "print(norm_rvs)"
   ]
  },
  {
   "cell_type": "markdown",
   "metadata": {},
   "source": [
    "#### 2: Perfrom Cumulative Distribution Function or CDF on variables, with loc 1 and scale 3\n"
   ]
  },
  {
   "cell_type": "code",
   "execution_count": 7,
   "metadata": {},
   "outputs": [
    {
     "name": "stdout",
     "output_type": "stream",
     "text": [
      "0.9986501019683699\n"
     ]
    }
   ],
   "source": [
    "norm_cdf = norm.cdf(10, loc=1, scale = 3)\n",
    "print(norm_cdf)"
   ]
  },
  {
   "cell_type": "markdown",
   "metadata": {
    "collapsed": true
   },
   "source": [
    "#### 3: Perfrom Probability Density Function or PDF on variables, with loc 1 and scale 1"
   ]
  },
  {
   "cell_type": "code",
   "execution_count": 5,
   "metadata": {},
   "outputs": [
    {
     "name": "stdout",
     "output_type": "stream",
     "text": [
      "7.998827757006813e-38\n"
     ]
    }
   ],
   "source": [
    "norm_pdf = norm.pdf(14, loc=1, scale = 1)\n",
    "print(norm_pdf)"
   ]
  }
 ],
 "metadata": {
  "kernelspec": {
   "display_name": "Python 3",
   "language": "python",
   "name": "python3"
  },
  "language_info": {
   "codemirror_mode": {
    "name": "ipython",
    "version": 3
   },
   "file_extension": ".py",
   "mimetype": "text/x-python",
   "name": "python",
   "nbconvert_exporter": "python",
   "pygments_lexer": "ipython3",
   "version": "3.8.8"
  }
 },
 "nbformat": 4,
 "nbformat_minor": 1
}
