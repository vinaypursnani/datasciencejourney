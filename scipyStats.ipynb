{
 "cells": [
  {
   "cell_type": "code",
   "execution_count": null,
   "id": "3b16bc5d",
   "metadata": {},
   "outputs": [],
   "source": [
    "# SciPy subpackage Statistics\n",
    "# this package contains many usefull distributions for which we need to generate randomVariables\n",
    "# We can also get Theoretical properties of these variables\n",
    "# Random varibles are used to specify finite set of values that build statistical hypothesis\n",
    "# determine probablity and predict the outcome\n",
    "# this package also offers convinience methods such as pdf(), cdf()\n",
    "\n",
    "# Statistical Functions such as\n",
    "# 1. linear regression: linregress() another function to determine the relationship among variable that are linear in nature\n",
    "# used to determine dependenct to indentify whether a change in one variable impacts the other\n",
    "# 2. describing data: describe(), normaltest() used validate and test the hypothesis built during data processing"
   ]
  },
  {
   "cell_type": "code",
   "execution_count": null,
   "id": "5c893e66",
   "metadata": {},
   "outputs": [],
   "source": [
    "# Cumulative Distribution Frequency, provides the cumulative probablity associated with a function\n",
    "# i.e. total value present upto a given range\n",
    "# F(x) = P(X<=x)\n",
    "\n",
    "# Probablity density function, continuous random variable is derevative of CDF\n",
    "# PDF for random distribution helps describe the probablity that for any given continuos random variable.\n",
    "# its value lies within the same interval\n",
    "# f(x) = dF(x)/dx, derivative of CDF"
   ]
  },
  {
   "cell_type": "code",
   "execution_count": 6,
   "id": "46fe8a86",
   "metadata": {},
   "outputs": [
    {
     "name": "stdout",
     "output_type": "stream",
     "text": [
      "norm_rvs [ 0.31533423  1.67812902  1.37079476 -0.60149852 -0.52004221 -1.08187282\n",
      " -0.24399245  1.97623232 -1.34279024  1.23333729]\n",
      "norm_cdf 0.9772498680518208\n",
      "norm_pdf 0.02218416693589111\n"
     ]
    }
   ],
   "source": [
    "# STANDARD loc is the mean\n",
    "# STANDARD scale is the standard deviation\n",
    "# functions used to peform Normal Distribution. loc and scale \n",
    "# are used to adjust the location and scale of the distribution\n",
    "from scipy.stats import norm # normal distribution\n",
    "\n",
    "norm_rvs = norm.rvs(loc=0,scale=1,size=10) # rvs for Random variables\n",
    "print('norm_rvs', norm_rvs)\n",
    "\n",
    "# cumulative distirbution function\n",
    "# helps describe the probablity, that for any 10 continuous random variables\n",
    "# the values of the variable are less than or equal to the argument of the function\n",
    "\n",
    "# total size of chosen varible 5\n",
    "# location 1\n",
    "# scale 2\n",
    "norm_cdf = norm.cdf(5, loc = 1, scale = 2)\n",
    "print('norm_cdf', norm_cdf)\n",
    "\n",
    "# probablity density function\n",
    "norm_pdf = norm.pdf(9, loc=1, scale=5)\n",
    "print('norm_pdf', norm_pdf)"
   ]
  }
 ],
 "metadata": {
  "kernelspec": {
   "display_name": "Python 3",
   "language": "python",
   "name": "python3"
  },
  "language_info": {
   "codemirror_mode": {
    "name": "ipython",
    "version": 3
   },
   "file_extension": ".py",
   "mimetype": "text/x-python",
   "name": "python",
   "nbconvert_exporter": "python",
   "pygments_lexer": "ipython3",
   "version": "3.8.8"
  }
 },
 "nbformat": 4,
 "nbformat_minor": 5
}
