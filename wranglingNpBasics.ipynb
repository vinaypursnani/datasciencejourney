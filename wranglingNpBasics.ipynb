{
 "cells": [
  {
   "cell_type": "code",
   "execution_count": 2,
   "id": "5db678ba",
   "metadata": {},
   "outputs": [],
   "source": [
    "import numpy as np"
   ]
  },
  {
   "cell_type": "code",
   "execution_count": 4,
   "id": "571d7bdc",
   "metadata": {},
   "outputs": [
    {
     "name": "stdout",
     "output_type": "stream",
     "text": [
      "[['Vinay']\n",
      " ['Pursnani']]\n",
      "[['Vinay']\n",
      " ['Pursnani']]\n",
      "True\n"
     ]
    }
   ],
   "source": [
    "# Copy and Views\n",
    "nyc = np.array([['Vinay'],['Pursnani']])\n",
    "print(nyc)\n",
    "nye = nyc\n",
    "print(nye)\n",
    "print(nye is nyc)"
   ]
  },
  {
   "cell_type": "code",
   "execution_count": 6,
   "id": "519ce9bb",
   "metadata": {},
   "outputs": [
    {
     "name": "stdout",
     "output_type": "stream",
     "text": [
      "[['Vinay']\n",
      " ['Pursnani']]\n",
      "[['Vinay']\n",
      " ['Pursnani']]\n"
     ]
    }
   ],
   "source": [
    "# View Shallow copy\n",
    "view_nyc = nyc.view()\n",
    "print(view_nyc)\n",
    "print(nyc)# the original value also changes"
   ]
  },
  {
   "cell_type": "code",
   "execution_count": 7,
   "id": "b99b43aa",
   "metadata": {},
   "outputs": [
    {
     "name": "stdout",
     "output_type": "stream",
     "text": [
      "[['Vinay']\n",
      " ['Pursnani']]\n"
     ]
    }
   ],
   "source": [
    "print(nye) # also changes the assigned value"
   ]
  },
  {
   "cell_type": "code",
   "execution_count": 8,
   "id": "b2f413de",
   "metadata": {},
   "outputs": [
    {
     "data": {
      "text/plain": [
       "array([['1', '2', '3']], dtype='<U1')"
      ]
     },
     "execution_count": 8,
     "metadata": {},
     "output_type": "execute_result"
    }
   ],
   "source": [
    "# Copy\n",
    "abc = np.array([['1','2','3']])\n",
    "copy_abc = abc.copy()\n",
    "copy_abc"
   ]
  },
  {
   "cell_type": "code",
   "execution_count": 9,
   "id": "b7005418",
   "metadata": {},
   "outputs": [
    {
     "name": "stdout",
     "output_type": "stream",
     "text": [
      "[['1' '2' '3']]\n",
      "2\n"
     ]
    }
   ],
   "source": [
    "copy_abc='2'\n",
    "print(abc)\n",
    "print(copy_abc)\n",
    "# does not change the original array"
   ]
  },
  {
   "cell_type": "code",
   "execution_count": 10,
   "id": "ff3b351d",
   "metadata": {},
   "outputs": [
    {
     "data": {
      "text/plain": [
       "array([1.41421356, 1.73205081, 2.        , 2.23606798])"
      ]
     },
     "execution_count": 10,
     "metadata": {},
     "output_type": "execute_result"
    }
   ],
   "source": [
    "# numpy universal function\n",
    "# avg, ceil, dot, floor, inner, inverse\n",
    "np_sqrt = np.sqrt([2,3,4,5])\n",
    "np_sqrt"
   ]
  },
  {
   "cell_type": "code",
   "execution_count": 11,
   "id": "8bff57e9",
   "metadata": {},
   "outputs": [],
   "source": [
    "from numpy import pi"
   ]
  },
  {
   "cell_type": "code",
   "execution_count": 12,
   "id": "e80da885",
   "metadata": {},
   "outputs": [
    {
     "name": "stdout",
     "output_type": "stream",
     "text": [
      "1.0\n"
     ]
    }
   ],
   "source": [
    "print(np.cos(0))"
   ]
  },
  {
   "cell_type": "code",
   "execution_count": 13,
   "id": "fc34fa7d",
   "metadata": {},
   "outputs": [
    {
     "name": "stdout",
     "output_type": "stream",
     "text": [
      "1.0\n"
     ]
    }
   ],
   "source": [
    "print(np.sin(pi/2))"
   ]
  },
  {
   "cell_type": "code",
   "execution_count": 4,
   "id": "b7f992be",
   "metadata": {},
   "outputs": [],
   "source": [
    "# Some Common methods for manipulating shapes\n",
    "# Split, Flatten, Resize, Reshape, Stack\n",
    "arr = np.array(([10,11,12,13,14],[13,15,16,23,19]))"
   ]
  },
  {
   "cell_type": "code",
   "execution_count": 5,
   "id": "27479d4b",
   "metadata": {},
   "outputs": [
    {
     "data": {
      "text/plain": [
       "array([10, 11, 12, 13, 14, 13, 15, 16, 23, 19])"
      ]
     },
     "execution_count": 5,
     "metadata": {},
     "output_type": "execute_result"
    }
   ],
   "source": [
    "arr.ravel()"
   ]
  },
  {
   "cell_type": "code",
   "execution_count": 6,
   "id": "c063de65",
   "metadata": {},
   "outputs": [
    {
     "data": {
      "text/plain": [
       "array([[10, 11, 12, 13, 14],\n",
       "       [13, 15, 16, 23, 19]])"
      ]
     },
     "execution_count": 6,
     "metadata": {},
     "output_type": "execute_result"
    }
   ],
   "source": [
    "arr.reshape(2,5)"
   ]
  },
  {
   "cell_type": "code",
   "execution_count": 7,
   "id": "007ff5f3",
   "metadata": {},
   "outputs": [
    {
     "data": {
      "text/plain": [
       "array([[10, 11],\n",
       "       [12, 13],\n",
       "       [14, 13],\n",
       "       [15, 16],\n",
       "       [23, 19]])"
      ]
     },
     "execution_count": 7,
     "metadata": {},
     "output_type": "execute_result"
    }
   ],
   "source": [
    "arr.resize(5,2)\n",
    "arr"
   ]
  },
  {
   "cell_type": "code",
   "execution_count": 11,
   "id": "a627e1d4",
   "metadata": {},
   "outputs": [
    {
     "name": "stdout",
     "output_type": "stream",
     "text": [
      "[array([[10],\n",
      "       [12],\n",
      "       [14],\n",
      "       [15],\n",
      "       [23]]), array([[11],\n",
      "       [13],\n",
      "       [13],\n",
      "       [16],\n",
      "       [19]])]\n"
     ]
    }
   ],
   "source": [
    "arr2 = np.hsplit(arr, 2)\n",
    "print(arr2)"
   ]
  },
  {
   "cell_type": "code",
   "execution_count": 24,
   "id": "7a86f580",
   "metadata": {},
   "outputs": [
    {
     "name": "stdout",
     "output_type": "stream",
     "text": [
      "[[10 11 10 11]\n",
      " [12 13 12 13]\n",
      " [14 13 14 13]\n",
      " [15 16 15 16]\n",
      " [23 19 23 19]]\n"
     ]
    }
   ],
   "source": [
    "x = np.hstack((arr,arr))\n",
    "print(x)"
   ]
  },
  {
   "cell_type": "code",
   "execution_count": 18,
   "id": "9521938a",
   "metadata": {},
   "outputs": [],
   "source": [
    "#Broadcasting\n",
    "arrA = np.array([2,3,5,8])\n",
    "arrB = np.array([.2,.2,.2,.2])\n",
    "# arrA * arrB\n",
    "# array([0.4, 0.6, 1. , 1.6])"
   ]
  },
  {
   "cell_type": "code",
   "execution_count": 20,
   "id": "4a2cbb25",
   "metadata": {},
   "outputs": [
    {
     "data": {
      "text/plain": [
       "array([0.4, 0.6, 1. , 1.6])"
      ]
     },
     "execution_count": 20,
     "metadata": {},
     "output_type": "execute_result"
    }
   ],
   "source": [
    "scalar = .2\n",
    "arrA * scalar"
   ]
  },
  {
   "cell_type": "code",
   "execution_count": 22,
   "id": "7bad3fc4",
   "metadata": {},
   "outputs": [
    {
     "name": "stdout",
     "output_type": "stream",
     "text": [
      "[320 277 230 229 288]\n"
     ]
    },
    {
     "data": {
      "text/plain": [
       "array([21.33333333, 18.46666667, 15.33333333, 15.26666667, 19.2       ])"
      ]
     },
     "execution_count": 22,
     "metadata": {},
     "output_type": "execute_result"
    }
   ],
   "source": [
    "incomeOne = np.array([165,132,110,119,123])\n",
    "incomeTwo = np.array([155,145,120,110,165])\n",
    "total = incomeOne + incomeTwo\n",
    "print(total)\n",
    "total/15 # Broadcasting"
   ]
  },
  {
   "cell_type": "code",
   "execution_count": 25,
   "id": "03849d41",
   "metadata": {},
   "outputs": [
    {
     "data": {
      "text/plain": [
       "array([[10, 12, 14, 15, 23],\n",
       "       [11, 13, 13, 16, 19],\n",
       "       [10, 12, 14, 15, 23],\n",
       "       [11, 13, 13, 16, 19]])"
      ]
     },
     "execution_count": 25,
     "metadata": {},
     "output_type": "execute_result"
    }
   ],
   "source": [
    "# transpose helps you interchange rows and columns, vice-versa\n",
    "x.transpose()"
   ]
  },
  {
   "cell_type": "code",
   "execution_count": 32,
   "id": "302e37ac",
   "metadata": {},
   "outputs": [
    {
     "name": "stdout",
     "output_type": "stream",
     "text": [
      "[[-2.   1. ]\n",
      " [ 1.5 -0.5]]\n",
      "[[1. 2.]\n",
      " [3. 4.]]\n"
     ]
    }
   ],
   "source": [
    "# inverse and trace function\n",
    "sq_mat = np.empty(9)\n",
    "# sq_mat.reshape(3,3)\n",
    "sq_mats = np.linspace(1,4,4)\n",
    "sq_mats = sq_mats.reshape(2,2)\n",
    "# for i in range(9)\n",
    "invrse = np.linalg.inv(sq_mats)\n",
    "print(invrse)\n",
    "print(sq_mats)"
   ]
  },
  {
   "cell_type": "code",
   "execution_count": 35,
   "id": "a60435be",
   "metadata": {},
   "outputs": [
    {
     "name": "stdout",
     "output_type": "stream",
     "text": [
      "5.0\n",
      "-2.4999999999999996\n"
     ]
    }
   ],
   "source": [
    "print(np.trace(sq_mats))\n",
    "print(np.trace(invrse))"
   ]
  }
 ],
 "metadata": {
  "kernelspec": {
   "display_name": "Python 3",
   "language": "python",
   "name": "python3"
  },
  "language_info": {
   "codemirror_mode": {
    "name": "ipython",
    "version": 3
   },
   "file_extension": ".py",
   "mimetype": "text/x-python",
   "name": "python",
   "nbconvert_exporter": "python",
   "pygments_lexer": "ipython3",
   "version": "3.8.8"
  }
 },
 "nbformat": 4,
 "nbformat_minor": 5
}
