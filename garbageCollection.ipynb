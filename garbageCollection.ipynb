{
 "cells": [
  {
   "cell_type": "code",
   "execution_count": null,
   "id": "a393e49b",
   "metadata": {},
   "outputs": [],
   "source": [
    "# When variable is assigned a value, it refers to the values' memory location or address and not the value itself.\\\n",
    "# \tFor example -\n",
    "# \t\tx = 7\n",
    "# \t\tthen this 7 is assigned a reference address in the memory, say <address 1>\n",
    "# \t\twhen incremented\n",
    "# \t\tx = x + 1\n",
    "# \t\tthe calculation is done and this new value is assigned new address in memory location.\n",
    "# \t\tsay, <address 2>\n",
    "# \t\tlater on the <address 1> value is garbage collected\n",
    "# \t\tPython has an automated garbage collection.\n",
    "# \t\tIt has an algorithm to deallocate objects which are no longer needed"
   ]
  },
  {
   "cell_type": "code",
   "execution_count": 16,
   "id": "31702589",
   "metadata": {},
   "outputs": [],
   "source": [
    "# To get reference count of a variable \n",
    "import sys\n",
    "# sys.getrefcount(var)\n",
    "# adds +1 as self reference count to the output\n",
    "# efficient way\n",
    "import ctypes\n",
    "# ctypes.c_long.from_address(address).value\n",
    "# there is also something called GC module"
   ]
  },
  {
   "cell_type": "code",
   "execution_count": 13,
   "id": "5470437a",
   "metadata": {},
   "outputs": [
    {
     "name": "stdout",
     "output_type": "stream",
     "text": [
      "2400159991568\n",
      "2400159991568\n",
      "2400159991568\n"
     ]
    },
    {
     "data": {
      "text/plain": [
       "83"
      ]
     },
     "execution_count": 13,
     "metadata": {},
     "output_type": "execute_result"
    }
   ],
   "source": [
    "# Garbage collection method 1. Reference counting\n",
    "a = 50\n",
    "b = a\n",
    "# b has been assigned the reference address of a\n",
    "c = 50\n",
    "# python creates an object of type integer with value 10 at some memory address\n",
    "# a, b, c are pointer or reference to this memory object\n",
    "print(id(a))\n",
    "print(id(b))\n",
    "print(id(c))\n",
    "sys.getrefcount(a)\n"
   ]
  },
  {
   "cell_type": "code",
   "execution_count": 17,
   "id": "d548b408",
   "metadata": {},
   "outputs": [
    {
     "data": {
      "text/plain": [
       "79"
      ]
     },
     "execution_count": 17,
     "metadata": {},
     "output_type": "execute_result"
    }
   ],
   "source": [
    "ctypes.c_long.from_address(2400159991568).value"
   ]
  },
  {
   "cell_type": "code",
   "execution_count": 18,
   "id": "3512f00c",
   "metadata": {},
   "outputs": [],
   "source": [
    "def ref_count(address: int):\n",
    "    return ctypes.c_long.from_address(address).value"
   ]
  },
  {
   "cell_type": "code",
   "execution_count": 20,
   "id": "7d9f79c7",
   "metadata": {},
   "outputs": [
    {
     "name": "stdout",
     "output_type": "stream",
     "text": [
      "2400159991888\n",
      "51\n"
     ]
    }
   ],
   "source": [
    "# there is 1 object 3 names 3 references\n",
    "# now if we change a's object i.e.\n",
    "a = 60\n",
    "print(id(a))\n",
    "# sys.getrefcount(a)\n",
    "print(ref_count(id(a)))\n",
    "# now the previous reference to 50 goes away and no. of references to 50 is 2"
   ]
  },
  {
   "cell_type": "code",
   "execution_count": 3,
   "id": "fc010989",
   "metadata": {},
   "outputs": [
    {
     "name": "stdout",
     "output_type": "stream",
     "text": [
      "140708313335800\n"
     ]
    }
   ],
   "source": [
    "# it creates a new reference object 60 and assigns it new_id\n",
    "# note, the previous object 50, still has 2 refences\n",
    "a = None\n",
    "print(id(a))"
   ]
  },
  {
   "cell_type": "code",
   "execution_count": 21,
   "id": "3454f3ae",
   "metadata": {},
   "outputs": [
    {
     "name": "stdout",
     "output_type": "stream",
     "text": [
      "140708313283464\n",
      "7464\n"
     ]
    }
   ],
   "source": [
    "b = False\n",
    "print(id(b))\n",
    "print(ref_count(id(b)))"
   ]
  },
  {
   "cell_type": "code",
   "execution_count": 22,
   "id": "decccf2a",
   "metadata": {},
   "outputs": [
    {
     "ename": "NameError",
     "evalue": "name 'c' is not defined",
     "output_type": "error",
     "traceback": [
      "\u001b[1;31m---------------------------------------------------------------------------\u001b[0m",
      "\u001b[1;31mNameError\u001b[0m                                 Traceback (most recent call last)",
      "\u001b[1;32m~\\AppData\\Local\\Temp/ipykernel_9744/851414246.py\u001b[0m in \u001b[0;36m<module>\u001b[1;34m\u001b[0m\n\u001b[0;32m      1\u001b[0m \u001b[1;32mdel\u001b[0m\u001b[1;33m(\u001b[0m\u001b[0mc\u001b[0m\u001b[1;33m)\u001b[0m\u001b[1;33m\u001b[0m\u001b[1;33m\u001b[0m\u001b[0m\n\u001b[1;32m----> 2\u001b[1;33m \u001b[0mprint\u001b[0m\u001b[1;33m(\u001b[0m\u001b[0mid\u001b[0m\u001b[1;33m(\u001b[0m\u001b[0mc\u001b[0m\u001b[1;33m)\u001b[0m\u001b[1;33m)\u001b[0m\u001b[1;33m\u001b[0m\u001b[1;33m\u001b[0m\u001b[0m\n\u001b[0m\u001b[0;32m      3\u001b[0m \u001b[1;31m# del statement doesnt' delete obejcts, it removes the name and reference to the object\u001b[0m\u001b[1;33m\u001b[0m\u001b[1;33m\u001b[0m\u001b[0m\n\u001b[0;32m      4\u001b[0m \u001b[1;31m# instead if we reassigned c to something else\u001b[0m\u001b[1;33m\u001b[0m\u001b[1;33m\u001b[0m\u001b[0m\n\u001b[0;32m      5\u001b[0m \u001b[1;31m# the reference to 50 would go to 0 and will be recognised by the garbage collector to be trashed.\u001b[0m\u001b[1;33m\u001b[0m\u001b[1;33m\u001b[0m\u001b[0m\n",
      "\u001b[1;31mNameError\u001b[0m: name 'c' is not defined"
     ]
    }
   ],
   "source": [
    "del(c)\n",
    "print(id(c))\n",
    "# del statement doesnt' delete obejcts, it removes the name and reference to the object\n",
    "# instead if we reassigned c to something else\n",
    "# the reference to 50 would go to 0 and will be recognised by the garbage collector to be trashed.\n",
    "# Python Memory manager does this for us.\n",
    "print(ref_count(id(c)))"
   ]
  },
  {
   "cell_type": "code",
   "execution_count": 6,
   "id": "0dca104d",
   "metadata": {},
   "outputs": [
    {
     "name": "stdout",
     "output_type": "stream",
     "text": [
      "[[...]]\n"
     ]
    }
   ],
   "source": [
    "# drawback\n",
    "# reference counter itself stores counts in memory to keep the memory clean\n",
    "# does not work for cyclical refences i.e. object referenced to objects\n",
    "a = []\n",
    "a.append(a)\n",
    "print(a)\n",
    "# a referring to itself so the object count cannot be zero"
   ]
  },
  {
   "cell_type": "code",
   "execution_count": null,
   "id": "c0288e70",
   "metadata": {},
   "outputs": [],
   "source": [
    "# Garbage collection method 2. Generational Garbage collection\n",
    "# breaks cyclic references even, unused objects referenced by themselves\n",
    "# 3 lists - gen 0, gen 1, gen 2\n",
    "# gen 0 contains newly created objects. list is created for object to discard.\n",
    "    # reference cycles are detected\n",
    "    # If an object has no references it is discarded\n",
    "# gen 1 objects survived from above are placed in this list\n",
    "    # same step, create discarded list\n",
    "    # detect reference cycle\n",
    "    # no reference, then discard\n",
    "# gen 2 survived objects from list one\n",
    "    # objects stay live until end of program"
   ]
  }
 ],
 "metadata": {
  "kernelspec": {
   "display_name": "Python 3 (ipykernel)",
   "language": "python",
   "name": "python3"
  },
  "language_info": {
   "codemirror_mode": {
    "name": "ipython",
    "version": 3
   },
   "file_extension": ".py",
   "mimetype": "text/x-python",
   "name": "python",
   "nbconvert_exporter": "python",
   "pygments_lexer": "ipython3",
   "version": "3.10.0"
  }
 },
 "nbformat": 4,
 "nbformat_minor": 5
}
