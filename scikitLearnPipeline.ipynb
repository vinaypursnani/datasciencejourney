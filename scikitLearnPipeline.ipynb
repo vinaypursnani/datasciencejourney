{
 "cells": [
  {
   "cell_type": "code",
   "execution_count": null,
   "id": "4f66ec83",
   "metadata": {},
   "outputs": [],
   "source": [
    "# Pipeline simplifies the process where more than one model is requried\n",
    "# Once all the data is fit into the models or estimators, the predict method can be called\n",
    "# all the models in the pipeline must be transformers.\n",
    "# the last model can either be a transformet or a classifier, regressor, or other such objects.\n",
    "# estimators are known as 'model instances'"
   ]
  },
  {
   "cell_type": "code",
   "execution_count": 1,
   "id": "178b506f",
   "metadata": {},
   "outputs": [],
   "source": [
    "# pipeline class\n",
    "from sklearn.pipeline import Pipeline\n",
    "# linear estimator\n",
    "from sklearn.linear_model import LinearRegression\n",
    "# import PCA estimator for dimensionality reduction\n",
    "from sklearn.decomposition import PCA"
   ]
  },
  {
   "cell_type": "code",
   "execution_count": 3,
   "id": "ca10027c",
   "metadata": {},
   "outputs": [],
   "source": [
    "estimators = [('dim_reduction', PCA()),('linear_model',LinearRegression())]\n",
    "# chained estimators"
   ]
  },
  {
   "cell_type": "code",
   "execution_count": 4,
   "id": "297214a2",
   "metadata": {},
   "outputs": [],
   "source": [
    "# chain estimators in pipeline object\n",
    "pipeline_estimator = Pipeline(estimators)"
   ]
  },
  {
   "cell_type": "code",
   "execution_count": 5,
   "id": "a92cb3c4",
   "metadata": {},
   "outputs": [
    {
     "data": {
      "text/plain": [
       "Pipeline(steps=[('dim_reduction', PCA()), ('linear_model', LinearRegression())])"
      ]
     },
     "execution_count": 5,
     "metadata": {},
     "output_type": "execute_result"
    }
   ],
   "source": [
    "pipeline_estimator"
   ]
  },
  {
   "cell_type": "code",
   "execution_count": 6,
   "id": "244f9bf5",
   "metadata": {},
   "outputs": [
    {
     "data": {
      "text/plain": [
       "('dim_reduction', PCA())"
      ]
     },
     "execution_count": 6,
     "metadata": {},
     "output_type": "execute_result"
    }
   ],
   "source": [
    "# view step wise processing of the pipeline\n",
    "pipeline_estimator.steps[0]"
   ]
  },
  {
   "cell_type": "code",
   "execution_count": 7,
   "id": "c8ff083a",
   "metadata": {},
   "outputs": [
    {
     "data": {
      "text/plain": [
       "('linear_model', LinearRegression())"
      ]
     },
     "execution_count": 7,
     "metadata": {},
     "output_type": "execute_result"
    }
   ],
   "source": [
    "pipeline_estimator.steps[1]"
   ]
  },
  {
   "cell_type": "code",
   "execution_count": 8,
   "id": "7f68b915",
   "metadata": {},
   "outputs": [
    {
     "data": {
      "text/plain": [
       "[('dim_reduction', PCA()), ('linear_model', LinearRegression())]"
      ]
     },
     "execution_count": 8,
     "metadata": {},
     "output_type": "execute_result"
    }
   ],
   "source": [
    "pipeline_estimator.steps"
   ]
  }
 ],
 "metadata": {
  "kernelspec": {
   "display_name": "Python 3",
   "language": "python",
   "name": "python3"
  },
  "language_info": {
   "codemirror_mode": {
    "name": "ipython",
    "version": 3
   },
   "file_extension": ".py",
   "mimetype": "text/x-python",
   "name": "python",
   "nbconvert_exporter": "python",
   "pygments_lexer": "ipython3",
   "version": "3.8.8"
  }
 },
 "nbformat": 4,
 "nbformat_minor": 5
}
