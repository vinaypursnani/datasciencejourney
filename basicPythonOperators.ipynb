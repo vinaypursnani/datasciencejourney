{
 "cells": [
  {
   "cell_type": "code",
   "execution_count": 13,
   "id": "790b0958",
   "metadata": {},
   "outputs": [
    {
     "name": "stdout",
     "output_type": "stream",
     "text": [
      "False\n",
      "True\n",
      "pizza\n",
      "subway\n",
      "chinese\n",
      "thai\n",
      "True\n"
     ]
    }
   ],
   "source": [
    "# in operator\n",
    "my_list = ['pizza', 'subway', 'chinese', 'thai']\n",
    "print('Thai' in my_list)\n",
    "print('pizza' in my_list)\n",
    "for word in my_list:\n",
    "    print(word)\n",
    "dish = 'chicken tikka'\n",
    "print('i' in dish)"
   ]
  },
  {
   "cell_type": "code",
   "execution_count": 14,
   "id": "5a9baeee",
   "metadata": {},
   "outputs": [
    {
     "name": "stdout",
     "output_type": "stream",
     "text": [
      "(299, 281, 299, 315, 307, 318)\n"
     ]
    }
   ],
   "source": [
    "# + operator\n",
    "score = (299,281,299)\n",
    "new_score = (315,307,318)\n",
    "total_score = score + new_score\n",
    "print(total_score)"
   ]
  },
  {
   "cell_type": "code",
   "execution_count": 19,
   "id": "6179b38c",
   "metadata": {},
   "outputs": [
    {
     "name": "stdout",
     "output_type": "stream",
     "text": [
      "(2022, 2021, 2020, 2022, 2021, 2020, 2022, 2021, 2020)\n",
      "[2022, 2021, 2020, 2022, 2021, 2020]\n",
      "OoOOoOOoO\n"
     ]
    }
   ],
   "source": [
    "# * operaator\n",
    "year_tuple = (2022, 2021, 2020) * 3\n",
    "print(year_tuple)\n",
    "year_list = [2022, 2021, 2020] * 2\n",
    "print(year_list)\n",
    "name = 'OoO'*3\n",
    "print(name)"
   ]
  }
 ],
 "metadata": {
  "kernelspec": {
   "display_name": "Python 3",
   "language": "python",
   "name": "python3"
  },
  "language_info": {
   "codemirror_mode": {
    "name": "ipython",
    "version": 3
   },
   "file_extension": ".py",
   "mimetype": "text/x-python",
   "name": "python",
   "nbconvert_exporter": "python",
   "pygments_lexer": "ipython3",
   "version": "3.8.8"
  }
 },
 "nbformat": 4,
 "nbformat_minor": 5
}
