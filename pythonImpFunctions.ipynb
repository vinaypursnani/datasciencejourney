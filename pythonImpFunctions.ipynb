{
 "cells": [
  {
   "cell_type": "code",
   "execution_count": null,
   "id": "2af34318",
   "metadata": {},
   "outputs": [],
   "source": [
    "# python has built-in sequence functions, for example -\n",
    "# 1. enumerate; Indexes data to keep track of indices and corresponding data mapping\n",
    "# 2. sorted; returns the new sorted list for the given sequence\n",
    "# 3. reversed; iterated the data in reverse order\n",
    "# 4. zip; creates lists of tuples by pairing up elements of lists, tuples or other sequence"
   ]
  },
  {
   "cell_type": "code",
   "execution_count": 3,
   "id": "788d0584",
   "metadata": {},
   "outputs": [
    {
     "name": "stdout",
     "output_type": "stream",
     "text": [
      "0 alpha\n",
      "1 beta\n",
      "2 gamma\n"
     ]
    }
   ],
   "source": [
    "# enumerate\n",
    "items = ['alpha', 'beta', 'gamma']\n",
    "for pos, name in enumerate(items):\n",
    "    print(pos, name)"
   ]
  },
  {
   "cell_type": "code",
   "execution_count": 8,
   "id": "0851baef",
   "metadata": {},
   "outputs": [
    {
     "name": "stdout",
     "output_type": "stream",
     "text": [
      "[12, 21, 23, 33, 56, 86]\n",
      "[' ', 'a', 'a', 'i', 'i', 'n', 'n', 'n', 'p', 'r', 's', 'u', 'v', 'y']\n"
     ]
    }
   ],
   "source": [
    "# sorted\n",
    "print(sorted([23,56,12,21,33,86])) # sort numbers \n",
    "print(sorted('vinay pursnani')) # sort strings"
   ]
  },
  {
   "cell_type": "code",
   "execution_count": 13,
   "id": "b3d47fc5",
   "metadata": {},
   "outputs": [
    {
     "name": "stdout",
     "output_type": "stream",
     "text": [
      "[86, 33, 21, 12, 56, 23]\n"
     ]
    }
   ],
   "source": [
    "# reversed\n",
    "num_list = [23,56,12,21,33,86]\n",
    "print(list(reversed(num_list)))"
   ]
  },
  {
   "cell_type": "code",
   "execution_count": 22,
   "id": "63bcf3e9",
   "metadata": {},
   "outputs": [
    {
     "name": "stdout",
     "output_type": "stream",
     "text": [
      "[('physics', 1), ('chemistry', 2), ('maths', 3)]\n"
     ]
    }
   ],
   "source": [
    "# zip tuple\n",
    "sub = ('physics', 'chemistry', 'maths')\n",
    "sub_count = (1,2,3)\n",
    "total = zip(sub, sub_count)\n",
    "print(list(total))"
   ]
  },
  {
   "cell_type": "code",
   "execution_count": 23,
   "id": "1073def6",
   "metadata": {},
   "outputs": [
    {
     "name": "stdout",
     "output_type": "stream",
     "text": [
      "[('physics', 'one'), ('chemistry', 'two'), ('maths', 'three')]\n"
     ]
    },
    {
     "data": {
      "text/plain": [
       "zip"
      ]
     },
     "execution_count": 23,
     "metadata": {},
     "output_type": "execute_result"
    }
   ],
   "source": [
    "# zip objects\n",
    "subs = ['physics', 'chemistry', 'maths']\n",
    "subs_counter = ['one','two','three']\n",
    "sub_zip = zip(subs, subs_counter)\n",
    "print(list(sub_zip))\n",
    "# print(0x000001F40587A240)\n",
    "type(sub_zip)"
   ]
  },
  {
   "cell_type": "code",
   "execution_count": 2,
   "id": "ed5398c0",
   "metadata": {},
   "outputs": [
    {
     "name": "stdout",
     "output_type": "stream",
     "text": [
      "Vinay\n"
     ]
    }
   ],
   "source": [
    "def my_first_function(name):\n",
    "    return name\n",
    "print(my_first_function('Vinay'))\n",
    "# function overloading in python is not permitted\n",
    "# overloading happens when you have more than one function of the same name"
   ]
  },
  {
   "cell_type": "code",
   "execution_count": 3,
   "id": "2e58cf93",
   "metadata": {},
   "outputs": [
    {
     "data": {
      "text/plain": [
       "31"
      ]
     },
     "execution_count": 3,
     "metadata": {},
     "output_type": "execute_result"
    }
   ],
   "source": [
    "def add_two_numbers(num1, num2):\n",
    "    return num1+num2\n",
    "number1 = 23\n",
    "number2 = 8\n",
    "result = add_two_numbers (number1, number2)\n",
    "result"
   ]
  },
  {
   "cell_type": "code",
   "execution_count": 5,
   "id": "35f5a27b",
   "metadata": {},
   "outputs": [
    {
     "name": "stdout",
     "output_type": "stream",
     "text": [
      "21 165 130\n"
     ]
    }
   ],
   "source": [
    "def profile():\n",
    "    age = 21\n",
    "    height = 165\n",
    "    weight = 130\n",
    "    return age, height, weight\n",
    "\n",
    "age, height, weight = profile()\n",
    "print (age, height, weight)"
   ]
  },
  {
   "cell_type": "code",
   "execution_count": 5,
   "id": "abf2e29a",
   "metadata": {},
   "outputs": [
    {
     "data": {
      "text/plain": [
       "{'alpha': 0, 'beta': 1, 'gamma': 2}"
      ]
     },
     "execution_count": 5,
     "metadata": {},
     "output_type": "execute_result"
    }
   ],
   "source": [
    "items = dict((name, pos) for pos, name in enumerate(items))\n",
    "items"
   ]
  },
  {
   "cell_type": "code",
   "execution_count": 8,
   "id": "aea167ca",
   "metadata": {},
   "outputs": [
    {
     "data": {
      "text/plain": [
       "[7, 21, 33, 43, 56, 65, 91]"
      ]
     },
     "execution_count": 8,
     "metadata": {},
     "output_type": "execute_result"
    }
   ],
   "source": [
    "# sorted\n",
    "sorted([91,43,65,56,7,33,21])"
   ]
  },
  {
   "cell_type": "code",
   "execution_count": 10,
   "id": "232319a0",
   "metadata": {},
   "outputs": [
    {
     "data": {
      "text/plain": [
       "[' ',\n",
       " ' ',\n",
       " ' ',\n",
       " 'F',\n",
       " 'P',\n",
       " 'c',\n",
       " 'h',\n",
       " 'i',\n",
       " 'n',\n",
       " 'n',\n",
       " 'n',\n",
       " 'o',\n",
       " 'o',\n",
       " 's',\n",
       " 't',\n",
       " 't',\n",
       " 'u',\n",
       " 'y']"
      ]
     },
     "execution_count": 10,
     "metadata": {},
     "output_type": "execute_result"
    }
   ],
   "source": [
    "sorted(' Python Functions ')"
   ]
  },
  {
   "cell_type": "code",
   "execution_count": 22,
   "id": "2a0d7c2c",
   "metadata": {},
   "outputs": [
    {
     "name": "stdout",
     "output_type": "stream",
     "text": [
      "range(0, 15)\n",
      "[14, 13, 12, 11, 10, 9, 8, 7, 6, 5, 4, 3, 2, 1, 0]\n"
     ]
    },
    {
     "data": {
      "text/plain": [
       "<zip at 0x24317d67040>"
      ]
     },
     "execution_count": 22,
     "metadata": {},
     "output_type": "execute_result"
    }
   ],
   "source": [
    "nums = range(15)\n",
    "print(nums)\n",
    "print(list(reversed(nums)))\n",
    "\n",
    "values = ['148', '151', '3.5']\n",
    "subjects = ['verbal', 'quant', 'writing']\n",
    "total_score = zip(values, subjects)\n",
    "total_score"
   ]
  }
 ],
 "metadata": {
  "kernelspec": {
   "display_name": "Python 3",
   "language": "python",
   "name": "python3"
  },
  "language_info": {
   "codemirror_mode": {
    "name": "ipython",
    "version": 3
   },
   "file_extension": ".py",
   "mimetype": "text/x-python",
   "name": "python",
   "nbconvert_exporter": "python",
   "pygments_lexer": "ipython3",
   "version": "3.8.8"
  }
 },
 "nbformat": 4,
 "nbformat_minor": 5
}
