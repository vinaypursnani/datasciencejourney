{
 "cells": [
  {
   "cell_type": "code",
   "execution_count": 30,
   "id": "a422c0f6",
   "metadata": {},
   "outputs": [
    {
     "name": "stdout",
     "output_type": "stream",
     "text": [
      "('a', 25, (6, 2004), 'vinay', 'gmail', 28)\n"
     ]
    }
   ],
   "source": [
    "tuple_one = ('a', 25, (6, 2004), 'vinay', 'gmail', 28)\n",
    "print(tuple_one)"
   ]
  },
  {
   "cell_type": "code",
   "execution_count": 31,
   "id": "1f53dd16",
   "metadata": {},
   "outputs": [
    {
     "name": "stdout",
     "output_type": "stream",
     "text": [
      "(6, 2004)\n",
      "(25, (6, 2004), 'vinay')\n"
     ]
    }
   ],
   "source": [
    "print(tuple_one[2])\n",
    "print(tuple_one[1:4]) #first is inclusive second is not"
   ]
  },
  {
   "cell_type": "code",
   "execution_count": 32,
   "id": "cd181bca",
   "metadata": {},
   "outputs": [
    {
     "name": "stdout",
     "output_type": "stream",
     "text": [
      "[1, 2, 3, 4, 5, 'vinay', 'pursnani']\n",
      "[1, 2, 3, 4, 5, 'vinay', 'pursnani', 'male']\n",
      "[1, 2, 3, 4, 5, 'vinay', 'pursnani']\n",
      "pop value:  male\n",
      "[1, 2, 3, 4, 5, 'pursnani']\n",
      "5\n",
      "[1, 2, 'new element', 3, 4, 5, 'pursnani']\n"
     ]
    },
    {
     "data": {
      "text/plain": [
       "[1, 2, 3, 4, 5, 'pursnani']"
      ]
     },
     "execution_count": 32,
     "metadata": {},
     "output_type": "execute_result"
    }
   ],
   "source": [
    "# tuple basic Operations\n",
    "# list_one.index()\n",
    "# list_one.insert(index, element)\n",
    "# list_one.pop() accepts index or pops last element by default\n",
    "# list_one.remove()\n",
    "\n",
    "list_one = [1,2,3,4,5,'vinay','pursnani']\n",
    "print(list_one)\n",
    "list_one.append('male')\n",
    "print(list_one)\n",
    "get_value = list_one.pop()\n",
    "print(list_one)\n",
    "print('pop value: ', get_value)\n",
    "list_one.remove('vinay')\n",
    "print(list_one)\n",
    "get_index = list_one.index('pursnani')\n",
    "print(get_index)\n",
    "list_one.insert(2, 'new element')\n",
    "print(list_one)\n",
    "list_one.remove('new element')\n",
    "list_one"
   ]
  },
  {
   "cell_type": "code",
   "execution_count": 23,
   "id": "081b78b4",
   "metadata": {},
   "outputs": [
    {
     "name": "stdout",
     "output_type": "stream",
     "text": [
      "dict_keys(['Email', 'Password'])\n",
      "dict_values(['email@icloud.com', 1235678])\n"
     ]
    }
   ],
   "source": [
    "# Dictionaries store a mapping between keys;any  immutable type and values; any data type\n",
    "# define, modify, view, lookup, delete \n",
    "# lookup lets you access a particular element within the object\n",
    "dict_one = {'Email': 'email@icloud.com', 'Password': 1235678}\n",
    "print(dict_one.keys())\n",
    "print(dict_one.values())"
   ]
  },
  {
   "cell_type": "code",
   "execution_count": 24,
   "id": "8b546011",
   "metadata": {},
   "outputs": [
    {
     "name": "stdout",
     "output_type": "stream",
     "text": [
      "{'Email': 'hello@yahoo.com', 'Password': 1235678}\n"
     ]
    }
   ],
   "source": [
    "dict_one.update({'Email': 'hello@yahoo.com'})\n",
    "print(dict_one)"
   ]
  },
  {
   "cell_type": "code",
   "execution_count": 26,
   "id": "087dd5c8",
   "metadata": {},
   "outputs": [
    {
     "ename": "NameError",
     "evalue": "name 'dict_one' is not defined",
     "output_type": "error",
     "traceback": [
      "\u001b[1;31m---------------------------------------------------------------------------\u001b[0m",
      "\u001b[1;31mNameError\u001b[0m                                 Traceback (most recent call last)",
      "\u001b[1;32m<ipython-input-26-c56a511d1952>\u001b[0m in \u001b[0;36m<module>\u001b[1;34m\u001b[0m\n\u001b[1;32m----> 1\u001b[1;33m \u001b[1;32mdel\u001b[0m \u001b[0mdict_one\u001b[0m\u001b[1;33m\u001b[0m\u001b[1;33m\u001b[0m\u001b[0m\n\u001b[0m\u001b[0;32m      2\u001b[0m \u001b[0mprint\u001b[0m\u001b[1;33m(\u001b[0m\u001b[0mdict_one\u001b[0m\u001b[1;33m)\u001b[0m\u001b[1;33m\u001b[0m\u001b[1;33m\u001b[0m\u001b[0m\n",
      "\u001b[1;31mNameError\u001b[0m: name 'dict_one' is not defined"
     ]
    }
   ],
   "source": [
    "del dict_one\n",
    "print(dict_one)"
   ]
  },
  {
   "cell_type": "code",
   "execution_count": 33,
   "id": "7dd0069c",
   "metadata": {},
   "outputs": [
    {
     "name": "stdout",
     "output_type": "stream",
     "text": [
      "{'Gmail', 'Vinay', 'Kapoor'}\n"
     ]
    }
   ],
   "source": [
    "# Set is a collection of, unordered, unique element\n",
    "set_one = set(['Vinay', 'Vinay', 'Kapoor', 'Gmail'])\n",
    "print(set_one)"
   ]
  },
  {
   "cell_type": "code",
   "execution_count": 38,
   "id": "dd4f9f02",
   "metadata": {},
   "outputs": [
    {
     "data": {
      "text/plain": [
       "set()"
      ]
     },
     "execution_count": 38,
     "metadata": {},
     "output_type": "execute_result"
    }
   ],
   "source": [
    "set_two = set([1,2,3])\n",
    "set_one & set_two"
   ]
  },
  {
   "cell_type": "code",
   "execution_count": 39,
   "id": "684d9373",
   "metadata": {},
   "outputs": [
    {
     "data": {
      "text/plain": [
       "{1, 2, 3, 'Gmail', 'Kapoor', 'Vinay'}"
      ]
     },
     "execution_count": 39,
     "metadata": {},
     "output_type": "execute_result"
    }
   ],
   "source": [
    "set_one | set_two"
   ]
  }
 ],
 "metadata": {
  "kernelspec": {
   "display_name": "Python 3",
   "language": "python",
   "name": "python3"
  },
  "language_info": {
   "codemirror_mode": {
    "name": "ipython",
    "version": 3
   },
   "file_extension": ".py",
   "mimetype": "text/x-python",
   "name": "python",
   "nbconvert_exporter": "python",
   "pygments_lexer": "ipython3",
   "version": "3.8.8"
  }
 },
 "nbformat": 4,
 "nbformat_minor": 5
}
